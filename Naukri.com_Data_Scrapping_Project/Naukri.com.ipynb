{
 "cells": [
  {
   "cell_type": "code",
   "execution_count": 1,
   "id": "3025fd4d-b895-4b8d-a915-11235e38053a",
   "metadata": {},
   "outputs": [],
   "source": [
    "from bs4 import BeautifulSoup\n",
    "import requests\n",
    "import pandas as pd\n",
    "import time\n",
    "from selenium import webdriver\n",
    "from selenium.webdriver.common.by import By"
   ]
  },
  {
   "cell_type": "code",
   "execution_count": 2,
   "id": "354061ef-af8a-45bb-b3f8-8f3bd0938d81",
   "metadata": {},
   "outputs": [],
   "source": [
    "driver = webdriver.Chrome()\n",
    "page_url='https://www.naukri.com/data-analyst-jobs?k=data%20analyst&experience=0'\n",
    "driver.get(page_url)\n",
    "time.sleep(3)"
   ]
  },
  {
   "cell_type": "code",
   "execution_count": 3,
   "id": "5e76f088-bb80-441c-859b-f68e600bf0dc",
   "metadata": {},
   "outputs": [],
   "source": [
    "driver.find_element(By.XPATH, '/html/body/div/div/main/div[2]/div/button').click()"
   ]
  },
  {
   "cell_type": "code",
   "execution_count": 4,
   "id": "cdd61bd6-c7d0-4163-9d86-eebec3f3395e",
   "metadata": {},
   "outputs": [],
   "source": [
    "dict_={'role':[],'company_name':[],'work_experience':[],'location':[],'skills':[],'post_date':[]}"
   ]
  },
  {
   "cell_type": "code",
   "execution_count": 5,
   "id": "7708d5fd-c766-4602-9605-408021d46725",
   "metadata": {},
   "outputs": [],
   "source": [
    "soup = BeautifulSoup(driver.page_source,'html.parser')"
   ]
  },
  {
   "cell_type": "code",
   "execution_count": 6,
   "id": "59bca6fa-522f-42c0-8e2e-6a99a24cd3ff",
   "metadata": {},
   "outputs": [],
   "source": [
    "jobs=soup.find_all('div',class_=\"srp-jobtuple-wrapper\")[0]"
   ]
  },
  {
   "cell_type": "code",
   "execution_count": 7,
   "id": "62a7fc30-450b-4d15-8a6c-85417254e822",
   "metadata": {},
   "outputs": [
    {
     "data": {
      "text/plain": [
       "'DATA ANALYST'"
      ]
     },
     "execution_count": 7,
     "metadata": {},
     "output_type": "execute_result"
    }
   ],
   "source": [
    "job_title_1 = jobs.find('a').text\n",
    "job_title_1"
   ]
  },
  {
   "cell_type": "code",
   "execution_count": 8,
   "id": "ed17ba60-5193-40cf-8863-a7fbe5055bea",
   "metadata": {},
   "outputs": [
    {
     "data": {
      "text/plain": [
       "'Competitive Crackers'"
      ]
     },
     "execution_count": 8,
     "metadata": {},
     "output_type": "execute_result"
    }
   ],
   "source": [
    "# Company_name\n",
    "comp_name_1 = jobs.find_all('a')[1].text\n",
    "comp_name_1"
   ]
  },
  {
   "cell_type": "code",
   "execution_count": 9,
   "id": "ee2fdce8-6ce8-46ee-9c53-0d5aab6f403b",
   "metadata": {},
   "outputs": [
    {
     "data": {
      "text/plain": [
       "'0-3 Yrs'"
      ]
     },
     "execution_count": 9,
     "metadata": {},
     "output_type": "execute_result"
    }
   ],
   "source": [
    "# Work Experience\n",
    "experience_1 = jobs.find('span', class_='expwdth').text\n",
    "experience_1"
   ]
  },
  {
   "cell_type": "code",
   "execution_count": 10,
   "id": "b066ac9d-c04a-43f2-943f-065358835bbd",
   "metadata": {},
   "outputs": [],
   "source": [
    "skill = jobs.find_all('li')\n",
    "skill\n",
    "skill_1 = []\n",
    "for i in jobs.find_all('li'):\n",
    "    skill_1.append(i.text)"
   ]
  },
  {
   "cell_type": "code",
   "execution_count": 11,
   "id": "f4dc15ed-4317-4f50-8d38-6d78bbce4a4b",
   "metadata": {},
   "outputs": [
    {
     "data": {
      "text/plain": [
       "['metadata',\n",
       " 'python',\n",
       " 'data analysis',\n",
       " 'data management',\n",
       " 'data analytics',\n",
       " 'data validation',\n",
       " 'configuration',\n",
       " 'data mining']"
      ]
     },
     "execution_count": 11,
     "metadata": {},
     "output_type": "execute_result"
    }
   ],
   "source": [
    "skill_1"
   ]
  },
  {
   "cell_type": "code",
   "execution_count": 12,
   "id": "a4a059e5-de83-4815-b508-94ad34383bc1",
   "metadata": {},
   "outputs": [
    {
     "data": {
      "text/plain": [
       "<span class=\"job-post-day\">Few Hours Ago</span>"
      ]
     },
     "execution_count": 12,
     "metadata": {},
     "output_type": "execute_result"
    }
   ],
   "source": [
    "post_date_=jobs.find('span',class_='job-post-day')\n",
    "post_date_"
   ]
  },
  {
   "cell_type": "code",
   "execution_count": 13,
   "id": "557237db-c650-401d-a3b4-743ed948caa9",
   "metadata": {},
   "outputs": [],
   "source": [
    "# jobs"
   ]
  },
  {
   "cell_type": "code",
   "execution_count": null,
   "id": "9745c973-3b64-41da-a112-9ae5e07ff52f",
   "metadata": {},
   "outputs": [],
   "source": []
  },
  {
   "cell_type": "code",
   "execution_count": 14,
   "id": "cfe0db31-866b-4a87-980c-4c1b17717380",
   "metadata": {},
   "outputs": [],
   "source": [
    "for i in range(1,10):\n",
    "    \n",
    "    driver.find_element(By.LINK_TEXT,f'{i}').click()\n",
    "    time.sleep(3)\n",
    "    soup = BeautifulSoup(driver.page_source,'html.parser')\n",
    "    jobs=soup.find_all('div',class_=\"srp-jobtuple-wrapper\")\n",
    "\n",
    "    for job in jobs:\n",
    "        # link_=job.find('a').get('href')\n",
    "        role_=job.find('a').text\n",
    "        comp_name_=job.find_all('a')[1].text\n",
    "        exp_=job.find('span',class_='expwdth')\n",
    "    \n",
    "        if exp_==None:\n",
    "            dict_['work_experience'].append(None)\n",
    "        else:\n",
    "            dict_['work_experience'].append(exp_.text)\n",
    "        \n",
    "        location_=job.find('span',class_='locWdth')    \n",
    "        if location_==None:\n",
    "            dict_['location'].append(None)\n",
    "        else:\n",
    "            dict_['location'].append(location_.text)    \n",
    "    \n",
    "        skill=job.find_all('li')\n",
    "        skill1=[]\n",
    "        for i in skill:\n",
    "            skill1.append(i.text)\n",
    "            \n",
    "        post_date_=job.find('span',class_='job-post-day').text\n",
    "    \n",
    "        dict_['role'].append(role_)\n",
    "        dict_['company_name'].append(comp_name_)\n",
    "        dict_['skills'].append(skill1)\n",
    "        dict_['post_date'].append(post_date_)\n",
    "       \n",
    "    "
   ]
  },
  {
   "cell_type": "code",
   "execution_count": 15,
   "id": "ecc834a3-d907-410d-8d76-3106b39a89c8",
   "metadata": {
    "scrolled": true
   },
   "outputs": [],
   "source": [
    "# dict_"
   ]
  },
  {
   "cell_type": "code",
   "execution_count": 16,
   "id": "88001358-3dec-450d-a14e-a9f7c4510b90",
   "metadata": {},
   "outputs": [],
   "source": [
    "df=pd.DataFrame(dict_)"
   ]
  },
  {
   "cell_type": "code",
   "execution_count": 17,
   "id": "fe20b582-cdc8-4c26-8ff4-44448943c66b",
   "metadata": {
    "scrolled": true
   },
   "outputs": [
    {
     "data": {
      "text/html": [
       "<div>\n",
       "<style scoped>\n",
       "    .dataframe tbody tr th:only-of-type {\n",
       "        vertical-align: middle;\n",
       "    }\n",
       "\n",
       "    .dataframe tbody tr th {\n",
       "        vertical-align: top;\n",
       "    }\n",
       "\n",
       "    .dataframe thead th {\n",
       "        text-align: right;\n",
       "    }\n",
       "</style>\n",
       "<table border=\"1\" class=\"dataframe\">\n",
       "  <thead>\n",
       "    <tr style=\"text-align: right;\">\n",
       "      <th></th>\n",
       "      <th>role</th>\n",
       "      <th>company_name</th>\n",
       "      <th>work_experience</th>\n",
       "      <th>location</th>\n",
       "      <th>skills</th>\n",
       "      <th>post_date</th>\n",
       "    </tr>\n",
       "  </thead>\n",
       "  <tbody>\n",
       "    <tr>\n",
       "      <th>0</th>\n",
       "      <td>DATA ANALYST</td>\n",
       "      <td>Competitive Crackers</td>\n",
       "      <td>0-3 Yrs</td>\n",
       "      <td>Kakinada</td>\n",
       "      <td>[metadata, python, data analysis, data managem...</td>\n",
       "      <td>Few Hours Ago</td>\n",
       "    </tr>\n",
       "    <tr>\n",
       "      <th>1</th>\n",
       "      <td>Data Analyst</td>\n",
       "      <td>Business Toys</td>\n",
       "      <td>0-1 Yrs</td>\n",
       "      <td>Hyderabad, Chennai, Bengaluru</td>\n",
       "      <td>[python, data analysis, sas, power bi, busines...</td>\n",
       "      <td>1 Day Ago</td>\n",
       "    </tr>\n",
       "    <tr>\n",
       "      <th>2</th>\n",
       "      <td>Data Analyst(0 Experience Required)</td>\n",
       "      <td>Peroptyx</td>\n",
       "      <td>0-5 Yrs</td>\n",
       "      <td>Remote</td>\n",
       "      <td>[Data Analysis, Data Analytics, Data Mapping, ...</td>\n",
       "      <td>3 Days Ago</td>\n",
       "    </tr>\n",
       "    <tr>\n",
       "      <th>3</th>\n",
       "      <td>Data Analyst</td>\n",
       "      <td>Outscal Technologies</td>\n",
       "      <td>0-3 Yrs</td>\n",
       "      <td>Remote</td>\n",
       "      <td>[Data Visualization, Tableau, Python, SQL, Dat...</td>\n",
       "      <td>2 Days Ago</td>\n",
       "    </tr>\n",
       "    <tr>\n",
       "      <th>4</th>\n",
       "      <td>ESG Data Analyst  - ESG Newsroom</td>\n",
       "      <td>Institutional Shareholder Services</td>\n",
       "      <td>0-3 Yrs</td>\n",
       "      <td>Mumbai</td>\n",
       "      <td>[Analyst, Environmental science, Corporate gov...</td>\n",
       "      <td>7 Days Ago</td>\n",
       "    </tr>\n",
       "    <tr>\n",
       "      <th>...</th>\n",
       "      <td>...</td>\n",
       "      <td>...</td>\n",
       "      <td>...</td>\n",
       "      <td>...</td>\n",
       "      <td>...</td>\n",
       "      <td>...</td>\n",
       "    </tr>\n",
       "    <tr>\n",
       "      <th>175</th>\n",
       "      <td>Data Scientist</td>\n",
       "      <td>P S International HR Consultants</td>\n",
       "      <td>0-7 Yrs</td>\n",
       "      <td>Mumbai</td>\n",
       "      <td>[Product management, Data analysis, Data model...</td>\n",
       "      <td>30+ Days Ago</td>\n",
       "    </tr>\n",
       "    <tr>\n",
       "      <th>176</th>\n",
       "      <td>Data scientist</td>\n",
       "      <td>Growthjockey</td>\n",
       "      <td>0-1 Yrs</td>\n",
       "      <td>Gurugram</td>\n",
       "      <td>[Computer science, Data analysis, SAS, Machine...</td>\n",
       "      <td>30+ Days Ago</td>\n",
       "    </tr>\n",
       "    <tr>\n",
       "      <th>177</th>\n",
       "      <td>Business Analyst / Financial Analyst</td>\n",
       "      <td>Milestone Online Technology</td>\n",
       "      <td>0-1 Yrs</td>\n",
       "      <td>Hybrid - Hyderabad, Chennai, Bengaluru</td>\n",
       "      <td>[Finance, Reporting, MIS Reporting, Excel Repo...</td>\n",
       "      <td>21 Days Ago</td>\n",
       "    </tr>\n",
       "    <tr>\n",
       "      <th>178</th>\n",
       "      <td>Business Analyst</td>\n",
       "      <td>Maverick Hat</td>\n",
       "      <td>0-3 Yrs</td>\n",
       "      <td>Pune</td>\n",
       "      <td>[functional specifications, data analysis, mod...</td>\n",
       "      <td>8 Days Ago</td>\n",
       "    </tr>\n",
       "    <tr>\n",
       "      <th>179</th>\n",
       "      <td>Charted Accountant Business Analyst</td>\n",
       "      <td>Aavas Financiers</td>\n",
       "      <td>0-1 Yrs</td>\n",
       "      <td>Jaipur</td>\n",
       "      <td>[Management Reporting, Finance, Accounts, Mana...</td>\n",
       "      <td>14 Days Ago</td>\n",
       "    </tr>\n",
       "  </tbody>\n",
       "</table>\n",
       "<p>180 rows × 6 columns</p>\n",
       "</div>"
      ],
      "text/plain": [
       "                                     role                        company_name  \\\n",
       "0                            DATA ANALYST                Competitive Crackers   \n",
       "1                            Data Analyst                       Business Toys   \n",
       "2     Data Analyst(0 Experience Required)                            Peroptyx   \n",
       "3                            Data Analyst                Outscal Technologies   \n",
       "4        ESG Data Analyst  - ESG Newsroom  Institutional Shareholder Services   \n",
       "..                                    ...                                 ...   \n",
       "175                        Data Scientist    P S International HR Consultants   \n",
       "176                        Data scientist                        Growthjockey   \n",
       "177  Business Analyst / Financial Analyst         Milestone Online Technology   \n",
       "178                      Business Analyst                        Maverick Hat   \n",
       "179   Charted Accountant Business Analyst                    Aavas Financiers   \n",
       "\n",
       "    work_experience                                location  \\\n",
       "0           0-3 Yrs                                Kakinada   \n",
       "1           0-1 Yrs           Hyderabad, Chennai, Bengaluru   \n",
       "2           0-5 Yrs                                  Remote   \n",
       "3           0-3 Yrs                                  Remote   \n",
       "4           0-3 Yrs                                  Mumbai   \n",
       "..              ...                                     ...   \n",
       "175         0-7 Yrs                                  Mumbai   \n",
       "176         0-1 Yrs                                Gurugram   \n",
       "177         0-1 Yrs  Hybrid - Hyderabad, Chennai, Bengaluru   \n",
       "178         0-3 Yrs                                    Pune   \n",
       "179         0-1 Yrs                                  Jaipur   \n",
       "\n",
       "                                                skills      post_date  \n",
       "0    [metadata, python, data analysis, data managem...  Few Hours Ago  \n",
       "1    [python, data analysis, sas, power bi, busines...      1 Day Ago  \n",
       "2    [Data Analysis, Data Analytics, Data Mapping, ...     3 Days Ago  \n",
       "3    [Data Visualization, Tableau, Python, SQL, Dat...     2 Days Ago  \n",
       "4    [Analyst, Environmental science, Corporate gov...     7 Days Ago  \n",
       "..                                                 ...            ...  \n",
       "175  [Product management, Data analysis, Data model...   30+ Days Ago  \n",
       "176  [Computer science, Data analysis, SAS, Machine...   30+ Days Ago  \n",
       "177  [Finance, Reporting, MIS Reporting, Excel Repo...    21 Days Ago  \n",
       "178  [functional specifications, data analysis, mod...     8 Days Ago  \n",
       "179  [Management Reporting, Finance, Accounts, Mana...    14 Days Ago  \n",
       "\n",
       "[180 rows x 6 columns]"
      ]
     },
     "execution_count": 17,
     "metadata": {},
     "output_type": "execute_result"
    }
   ],
   "source": [
    "df"
   ]
  },
  {
   "cell_type": "code",
   "execution_count": 18,
   "id": "6fb1b055-6a84-4bbe-a9e2-700dc4989244",
   "metadata": {},
   "outputs": [],
   "source": [
    "df.to_csv(\"Naukri_day3.csv\")"
   ]
  },
  {
   "cell_type": "code",
   "execution_count": null,
   "id": "2d94d892-b11f-4674-a2c6-74dbb1a42732",
   "metadata": {},
   "outputs": [],
   "source": []
  }
 ],
 "metadata": {
  "kernelspec": {
   "display_name": "Python 3 (ipykernel)",
   "language": "python",
   "name": "python3"
  },
  "language_info": {
   "codemirror_mode": {
    "name": "ipython",
    "version": 3
   },
   "file_extension": ".py",
   "mimetype": "text/x-python",
   "name": "python",
   "nbconvert_exporter": "python",
   "pygments_lexer": "ipython3",
   "version": "3.12.3"
  }
 },
 "nbformat": 4,
 "nbformat_minor": 5
}
