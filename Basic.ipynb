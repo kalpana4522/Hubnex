{
 "cells": [
  {
   "cell_type": "markdown",
   "id": "b3a5be77-e440-4016-b5fb-8c36a7d7ec76",
   "metadata": {},
   "source": [
    "Logical Operators"
   ]
  },
  {
   "cell_type": "code",
   "execution_count": 25,
   "id": "d705b995-8eda-4df3-abf6-017bb5e0c785",
   "metadata": {},
   "outputs": [
    {
     "name": "stdout",
     "output_type": "stream",
     "text": [
      "23 55 43 87\n"
     ]
    },
    {
     "data": {
      "text/plain": [
       "False"
      ]
     },
     "execution_count": 25,
     "metadata": {},
     "output_type": "execute_result"
    }
   ],
   "source": [
    "val1 = 23\n",
    "val2 = 55\n",
    "val3 = 43\n",
    "val4 = 87\n",
    "print(val1,val2,val3,val4)\n",
    "val3 >= val4"
   ]
  },
  {
   "cell_type": "code",
   "execution_count": 2,
   "id": "ee3e5268-76bd-41ae-8217-ddd6d49fa2fa",
   "metadata": {},
   "outputs": [
    {
     "data": {
      "text/plain": [
       "False"
      ]
     },
     "execution_count": 2,
     "metadata": {},
     "output_type": "execute_result"
    }
   ],
   "source": [
    "# compare or equal too\n",
    "val1 == val2"
   ]
  },
  {
   "cell_type": "code",
   "execution_count": 6,
   "id": "37dd7f46-fe7a-46c1-927c-3a107df2a296",
   "metadata": {},
   "outputs": [
    {
     "data": {
      "text/plain": [
       "True"
      ]
     },
     "execution_count": 6,
     "metadata": {},
     "output_type": "execute_result"
    }
   ],
   "source": [
    "val2 != 34"
   ]
  },
  {
   "cell_type": "markdown",
   "id": "5430d1cb-11b1-4c3d-bbd2-8b7b95c85479",
   "metadata": {},
   "source": [
    "# String\n",
    "\n"
   ]
  },
  {
   "cell_type": "code",
   "execution_count": 8,
   "id": "db654253-a58c-49b7-b69a-36d4e310a557",
   "metadata": {},
   "outputs": [
    {
     "data": {
      "text/plain": [
       "'Hubnex Technologies'"
      ]
     },
     "execution_count": 8,
     "metadata": {},
     "output_type": "execute_result"
    }
   ],
   "source": [
    "'Hubnex Technologies'"
   ]
  },
  {
   "cell_type": "code",
   "execution_count": 9,
   "id": "53210b99-a54c-4946-b2cd-ecaa6787beee",
   "metadata": {},
   "outputs": [
    {
     "data": {
      "text/plain": [
       "'Hubnex Solutions'"
      ]
     },
     "execution_count": 9,
     "metadata": {},
     "output_type": "execute_result"
    }
   ],
   "source": [
    "\"Hubnex Solutions\""
   ]
  },
  {
   "cell_type": "code",
   "execution_count": 10,
   "id": "c88aa4c3-688f-4287-afa1-3690ef4a6bb8",
   "metadata": {},
   "outputs": [
    {
     "name": "stdout",
     "output_type": "stream",
     "text": [
      "Hello\n"
     ]
    }
   ],
   "source": [
    "a = 'Hello'\n",
    "print(a)"
   ]
  },
  {
   "cell_type": "code",
   "execution_count": 11,
   "id": "192440f3-4d6c-49fa-8e05-1b63ee5e9bb1",
   "metadata": {},
   "outputs": [
    {
     "name": "stdout",
     "output_type": "stream",
     "text": [
      "Hi\n"
     ]
    }
   ],
   "source": [
    "a = \"Hi\"\n",
    "print(a)"
   ]
  },
  {
   "cell_type": "code",
   "execution_count": 12,
   "id": "5f625f06-c38b-43e6-9565-f707be9a911b",
   "metadata": {},
   "outputs": [
    {
     "name": "stdout",
     "output_type": "stream",
     "text": [
      "Lorem ipsum dolor sit amet,\n",
      "consectetur adipiscing elit,\n",
      "sed do eiusmod tempor incididunt\n",
      "ut labore et dolore magna aliqua.\n"
     ]
    }
   ],
   "source": [
    "a = \"\"\"Lorem ipsum dolor sit amet,\n",
    "consectetur adipiscing elit,\n",
    "sed do eiusmod tempor incididunt\n",
    "ut labore et dolore magna aliqua.\"\"\"\n",
    "print(a)"
   ]
  },
  {
   "cell_type": "markdown",
   "id": "1b56c0a2-a407-473c-98f2-59ba015526ff",
   "metadata": {},
   "source": [
    "# Case"
   ]
  },
  {
   "cell_type": "code",
   "execution_count": 14,
   "id": "b54fa4bc-fcc2-42c3-9c87-3cdcac25e305",
   "metadata": {},
   "outputs": [
    {
     "name": "stdout",
     "output_type": "stream",
     "text": [
      "THIS IS A STRING\n"
     ]
    }
   ],
   "source": [
    "a = \"This is a String\"\n",
    "print(a.upper())"
   ]
  },
  {
   "cell_type": "code",
   "execution_count": 15,
   "id": "2dd65a01-0086-4b52-ba2a-b7367504b658",
   "metadata": {},
   "outputs": [
    {
     "name": "stdout",
     "output_type": "stream",
     "text": [
      "this is string\n"
     ]
    }
   ],
   "source": [
    "b = 'This is STRING'\n",
    "print(b.lower())"
   ]
  },
  {
   "cell_type": "markdown",
   "id": "e5514151-c746-4b9b-b117-595c73390c75",
   "metadata": {},
   "source": [
    "# Split String"
   ]
  },
  {
   "cell_type": "code",
   "execution_count": 17,
   "id": "4658e53f-f30d-4bba-ada7-dfe46552f548",
   "metadata": {},
   "outputs": [
    {
     "name": "stdout",
     "output_type": "stream",
     "text": [
      "['Hello ', ' World']\n"
     ]
    }
   ],
   "source": [
    "a = \"Hello , World\"\n",
    "b = a.split(\",\")\n",
    "print(b)"
   ]
  },
  {
   "cell_type": "markdown",
   "id": "cc1edb4f-0673-4590-b8b8-149dca0740b0",
   "metadata": {},
   "source": [
    "# Replace String"
   ]
  },
  {
   "cell_type": "code",
   "execution_count": 23,
   "id": "aa86fd75-7c85-47d5-b97c-76dc803a7a46",
   "metadata": {},
   "outputs": [
    {
     "name": "stdout",
     "output_type": "stream",
     "text": [
      "Are Teehnologies\n"
     ]
    }
   ],
   "source": [
    "a = \"Arc Technologies\"\n",
    "print(a.replace('c' , 'e'))"
   ]
  },
  {
   "cell_type": "code",
   "execution_count": null,
   "id": "3c2deed1-a881-451d-99f5-5545217fa76c",
   "metadata": {},
   "outputs": [],
   "source": []
  }
 ],
 "metadata": {
  "kernelspec": {
   "display_name": "Python 3 (ipykernel)",
   "language": "python",
   "name": "python3"
  },
  "language_info": {
   "codemirror_mode": {
    "name": "ipython",
    "version": 3
   },
   "file_extension": ".py",
   "mimetype": "text/x-python",
   "name": "python",
   "nbconvert_exporter": "python",
   "pygments_lexer": "ipython3",
   "version": "3.11.7"
  }
 },
 "nbformat": 4,
 "nbformat_minor": 5
}
