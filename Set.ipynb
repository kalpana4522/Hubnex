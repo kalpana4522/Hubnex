{
 "cells": [
  {
   "cell_type": "markdown",
   "id": "67985f5e-2bdd-42a5-b3ac-e6af303e68e9",
   "metadata": {},
   "source": [
    "# Sets\n",
    "* Sets are an unordered collection of unique elements.\n",
    "* Sets cannot have duplicates.\r",
    "* Sets are mutable.\n",
    "*\n",
    "*"
   ]
  },
  {
   "cell_type": "code",
   "execution_count": 3,
   "id": "a40b9eaf-6d8c-4063-9f5c-8302dbe4cf86",
   "metadata": {},
   "outputs": [
    {
     "data": {
      "text/plain": [
       "{2, 'a'}"
      ]
     },
     "execution_count": 3,
     "metadata": {},
     "output_type": "execute_result"
    }
   ],
   "source": [
    "set_1 = set()\n",
    "set_1.add('a')\n",
    "set_1.add(2)\n",
    "set_1"
   ]
  },
  {
   "cell_type": "markdown",
   "id": "f64a4161-82a8-470c-8d2c-730ac59fa121",
   "metadata": {},
   "source": [
    "# update()\r\n",
    "This method helps to add multiple elements to a set.\r\n"
   ]
  },
  {
   "cell_type": "code",
   "execution_count": 4,
   "id": "4b5ab891-eb78-45fb-9630-bc775308ead5",
   "metadata": {},
   "outputs": [
    {
     "name": "stdout",
     "output_type": "stream",
     "text": [
      "{2, 3, 4, 5, 6, 7}\n"
     ]
    }
   ],
   "source": [
    "set_2 = {5,6,7,3}\n",
    "set_2.update([2, 3, 4])\n",
    "print(set_2)"
   ]
  },
  {
   "cell_type": "markdown",
   "id": "6c5613a9-9bf0-44c0-a6cd-175376646fcb",
   "metadata": {},
   "source": [
    "# remove()\r\n",
    "Remove() use to remove an element from the set."
   ]
  },
  {
   "cell_type": "code",
   "execution_count": 6,
   "id": "7d4de685-58c9-40dd-a088-43b45e77da70",
   "metadata": {},
   "outputs": [
    {
     "data": {
      "text/plain": [
       "{1, 6, 7, 22}"
      ]
     },
     "execution_count": 6,
     "metadata": {},
     "output_type": "execute_result"
    }
   ],
   "source": [
    "set_3 = {1,5,6,7,22}\n",
    "set_3.remove(5)\n",
    "set_3\n"
   ]
  },
  {
   "cell_type": "markdown",
   "id": "76169cc6-5b11-46c1-92a6-cab7fb0d819a",
   "metadata": {},
   "source": [
    "# union()\r\n",
    "This method returns the union of two setsor"
   ]
  },
  {
   "cell_type": "code",
   "execution_count": 7,
   "id": "201b51a8-aef4-471f-b6d5-3da3328e65c3",
   "metadata": {},
   "outputs": [
    {
     "data": {
      "text/plain": [
       "{1, 2, 3, 4, 5, 6, 7, 8}"
      ]
     },
     "execution_count": 7,
     "metadata": {},
     "output_type": "execute_result"
    }
   ],
   "source": [
    "A = {1, 2, 3, 4, 5}\n",
    "B = {4, 5, 6, 7, 8}\n",
    "A.union(B)"
   ]
  },
  {
   "cell_type": "markdown",
   "id": "f05cecd9-ce66-4f2f-8318-e2bcef27157f",
   "metadata": {},
   "source": [
    "# intersection()\r\n",
    "This method returns the intersection of two sets.\r\n",
    "denoted by the operator &"
   ]
  },
  {
   "cell_type": "code",
   "execution_count": 9,
   "id": "1b1257ea-79dc-42f6-bb8f-81a6280479fc",
   "metadata": {},
   "outputs": [
    {
     "data": {
      "text/plain": [
       "{4, 5}"
      ]
     },
     "execution_count": 9,
     "metadata": {},
     "output_type": "execute_result"
    }
   ],
   "source": [
    "A = {1, 2, 3, 4, 5}\n",
    "B = {4, 5, 6, 7, 8}\n",
    "A.intersection(B)\n",
    "\n",
    "A & B\n"
   ]
  },
  {
   "cell_type": "markdown",
   "id": "39ed79af-f479-4d5a-a74c-d7a91934a1dc",
   "metadata": {},
   "source": [
    "# difference()\r\n",
    "This method returns the difference of two sets.\r\n",
    "denoted by the operator -"
   ]
  },
  {
   "cell_type": "code",
   "execution_count": 12,
   "id": "c26418d0-b8d1-47ea-9cbe-c37c8ccd96da",
   "metadata": {},
   "outputs": [
    {
     "data": {
      "text/plain": [
       "{6, 7, 8}"
      ]
     },
     "execution_count": 12,
     "metadata": {},
     "output_type": "execute_result"
    }
   ],
   "source": [
    "A = {1, 2, 3, 4, 5}\n",
    "B = {4, 5, 6, 7, 8}\n",
    "A.difference(B)\n",
    "B.difference(A)\n"
   ]
  },
  {
   "cell_type": "markdown",
   "id": "e738446b-95d8-4b64-b4b3-8ec4052c0cf4",
   "metadata": {},
   "source": [
    "# symmetric_difference()\r\n",
    "This method returns the set of elements in A and B but not in both (excluding the intersection).\r\n",
    "denoted by the operator ^"
   ]
  },
  {
   "cell_type": "code",
   "execution_count": 13,
   "id": "372854c1-81ef-421b-a80a-654cd69ac5a7",
   "metadata": {},
   "outputs": [
    {
     "data": {
      "text/plain": [
       "{1, 2, 3, 6, 7, 8}"
      ]
     },
     "execution_count": 13,
     "metadata": {},
     "output_type": "execute_result"
    }
   ],
   "source": [
    "A = {1, 2, 3, 4, 5}\n",
    "B = {4, 5, 6, 7, 8}\n",
    "A.symmetric_difference(B)\n",
    "\n",
    "A^B\n"
   ]
  },
  {
   "cell_type": "markdown",
   "id": "7ce77588-b2d4-47ff-ac91-a32043437793",
   "metadata": {},
   "source": [
    "# discard()\n",
    "* \n",
    "It Removes an element elem from the set."
   ]
  },
  {
   "cell_type": "code",
   "execution_count": 14,
   "id": "b4470fcf-816d-4f99-9e24-272cdf674542",
   "metadata": {},
   "outputs": [],
   "source": [
    "set_4 = {21, 23, 44, 56, 86, 27}\n",
    "set_4.discard(44)\n"
   ]
  },
  {
   "cell_type": "code",
   "execution_count": 15,
   "id": "383e4f38-6a2c-4c22-adff-095e362c17e7",
   "metadata": {},
   "outputs": [
    {
     "data": {
      "text/plain": [
       "{21, 23, 27, 56, 86}"
      ]
     },
     "execution_count": 15,
     "metadata": {},
     "output_type": "execute_result"
    }
   ],
   "source": [
    "set_4"
   ]
  },
  {
   "cell_type": "code",
   "execution_count": null,
   "id": "28d93853-1139-47a9-be84-7b882f666bfb",
   "metadata": {},
   "outputs": [],
   "source": []
  },
  {
   "cell_type": "code",
   "execution_count": null,
   "id": "30a5cf67-c336-406c-ad37-1276c37449a5",
   "metadata": {},
   "outputs": [],
   "source": []
  },
  {
   "cell_type": "code",
   "execution_count": null,
   "id": "90a90cf2-315a-442d-9cc7-3ac158d59c1f",
   "metadata": {},
   "outputs": [],
   "source": []
  },
  {
   "cell_type": "code",
   "execution_count": null,
   "id": "73e6bc27-4e09-47e7-985e-f2e2c19e5ea5",
   "metadata": {},
   "outputs": [],
   "source": []
  },
  {
   "cell_type": "code",
   "execution_count": null,
   "id": "d4a99386-5f46-4f26-bee8-153acd9e60e7",
   "metadata": {},
   "outputs": [],
   "source": []
  },
  {
   "cell_type": "code",
   "execution_count": null,
   "id": "edf36d49-d251-4dbe-a29c-d7e5478927d0",
   "metadata": {},
   "outputs": [],
   "source": []
  },
  {
   "cell_type": "code",
   "execution_count": null,
   "id": "a87fb65f-2722-4f1a-9e80-ad7a946c5960",
   "metadata": {},
   "outputs": [],
   "source": []
  },
  {
   "cell_type": "code",
   "execution_count": null,
   "id": "74c576a5-14a9-4c69-9775-9c5cd9f8c3f8",
   "metadata": {},
   "outputs": [],
   "source": []
  },
  {
   "cell_type": "code",
   "execution_count": null,
   "id": "02b0fe8b-f20d-4529-931a-d60855e48a2f",
   "metadata": {},
   "outputs": [],
   "source": []
  },
  {
   "cell_type": "code",
   "execution_count": null,
   "id": "8169109d-e755-4d4b-8261-9ce536a443ee",
   "metadata": {},
   "outputs": [],
   "source": []
  },
  {
   "cell_type": "code",
   "execution_count": null,
   "id": "647fbf9d-a344-48d5-8ac9-00e08ef921b9",
   "metadata": {},
   "outputs": [],
   "source": []
  }
 ],
 "metadata": {
  "kernelspec": {
   "display_name": "Python 3 (ipykernel)",
   "language": "python",
   "name": "python3"
  },
  "language_info": {
   "codemirror_mode": {
    "name": "ipython",
    "version": 3
   },
   "file_extension": ".py",
   "mimetype": "text/x-python",
   "name": "python",
   "nbconvert_exporter": "python",
   "pygments_lexer": "ipython3",
   "version": "3.11.7"
  }
 },
 "nbformat": 4,
 "nbformat_minor": 5
}
