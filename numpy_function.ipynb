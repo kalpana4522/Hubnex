{
 "cells": [
  {
   "cell_type": "markdown",
   "id": "9c413b18-fab8-4f36-9ed9-6e7a9c18aad6",
   "metadata": {},
   "source": [
    "# Numpy  Functions"
   ]
  },
  {
   "cell_type": "code",
   "execution_count": 1,
   "id": "83b88e12-98a0-4537-8d86-a0c3fc37392d",
   "metadata": {},
   "outputs": [],
   "source": [
    "import numpy as np"
   ]
  },
  {
   "cell_type": "code",
   "execution_count": 2,
   "id": "e0f866cb-7efd-4793-8cfe-440d4d00a120",
   "metadata": {},
   "outputs": [
    {
     "name": "stdout",
     "output_type": "stream",
     "text": [
      "[1 2 3 4 5]\n"
     ]
    }
   ],
   "source": [
    "arr = np.array([1, 2, 3, 4, 5])\n",
    "print(arr)"
   ]
  },
  {
   "cell_type": "code",
   "execution_count": 3,
   "id": "d98191fa-6aa1-44b6-9b0f-7e270afed55a",
   "metadata": {},
   "outputs": [
    {
     "name": "stdout",
     "output_type": "stream",
     "text": [
      "[1 3 5 7 9]\n"
     ]
    }
   ],
   "source": [
    "arr = np.arange(1, 10, 2)\n",
    "print(arr)"
   ]
  },
  {
   "cell_type": "code",
   "execution_count": 5,
   "id": "0020007e-7f37-4153-aca4-0056e3529449",
   "metadata": {},
   "outputs": [
    {
     "name": "stdout",
     "output_type": "stream",
     "text": [
      "[1.         1.44444444 1.88888889 2.33333333 2.77777778 3.22222222\n",
      " 3.66666667 4.11111111 4.55555556 5.        ]\n"
     ]
    }
   ],
   "source": [
    "# linspace\n",
    "arr = np.linspace(1, 5, 10)\n",
    "print(arr)"
   ]
  },
  {
   "cell_type": "code",
   "execution_count": 7,
   "id": "27bb9233-87b6-4a76-babb-69a16984a9a4",
   "metadata": {},
   "outputs": [
    {
     "name": "stdout",
     "output_type": "stream",
     "text": [
      "[[0. 0. 0.]\n",
      " [0. 0. 0.]\n",
      " [0. 0. 0.]]\n"
     ]
    }
   ],
   "source": [
    "# zeros\n",
    "arr = np.zeros((3, 3))\n",
    "print(arr)"
   ]
  },
  {
   "cell_type": "code",
   "execution_count": 12,
   "id": "c0dfc7dd-43fa-4803-8855-d5abb41dd815",
   "metadata": {},
   "outputs": [
    {
     "name": "stdout",
     "output_type": "stream",
     "text": [
      "[[1. 1. 1.]\n",
      " [1. 1. 1.]]\n"
     ]
    }
   ],
   "source": [
    "arr = np.ones((2, 3))\n",
    "print(arr)"
   ]
  },
  {
   "cell_type": "code",
   "execution_count": 16,
   "id": "ac9d6666-999e-4bb1-a1b2-005e3b6df292",
   "metadata": {},
   "outputs": [
    {
     "name": "stdout",
     "output_type": "stream",
     "text": [
      "[[1. 0. 0. 0.]\n",
      " [0. 1. 0. 0.]\n",
      " [0. 0. 1. 0.]\n",
      " [0. 0. 0. 1.]]\n"
     ]
    }
   ],
   "source": [
    "arr = np.eye(4)\n",
    "print(arr) "
   ]
  },
  {
   "cell_type": "code",
   "execution_count": 19,
   "id": "977a5247-5366-4dc5-86a7-361abf6adb36",
   "metadata": {},
   "outputs": [
    {
     "name": "stdout",
     "output_type": "stream",
     "text": [
      "[[0.51664307 0.8413913  0.56414324]\n",
      " [0.30842872 0.19626426 0.25284549]]\n"
     ]
    }
   ],
   "source": [
    "# random\n",
    "arr = np.random.rand(2, 3)\n",
    "print(arr)"
   ]
  },
  {
   "cell_type": "code",
   "execution_count": 20,
   "id": "e880ceab-219d-4215-9576-ed96f5e8ad7c",
   "metadata": {},
   "outputs": [
    {
     "name": "stdout",
     "output_type": "stream",
     "text": [
      "15\n"
     ]
    }
   ],
   "source": [
    "arr = np.array([1, 2, 3, 4, 5])\n",
    "print(np.sum(arr))"
   ]
  },
  {
   "cell_type": "code",
   "execution_count": 21,
   "id": "a0823361-ff2f-448e-a4e5-397087f3f399",
   "metadata": {},
   "outputs": [
    {
     "name": "stdout",
     "output_type": "stream",
     "text": [
      "2.5\n"
     ]
    }
   ],
   "source": [
    "arr = np.array([[1, 2], [3, 4]])\n",
    "print(np.mean(arr))"
   ]
  },
  {
   "cell_type": "code",
   "execution_count": 23,
   "id": "5af8e1fd-62a4-4064-94fe-a5ab03a1e6aa",
   "metadata": {},
   "outputs": [
    {
     "data": {
      "text/plain": [
       "array([1, 3, 5, 7, 9])"
      ]
     },
     "execution_count": 23,
     "metadata": {},
     "output_type": "execute_result"
    }
   ],
   "source": [
    "# array range\n",
    "range_arr = np.arange(1, 10, 2)\n",
    "range_arr"
   ]
  },
  {
   "cell_type": "code",
   "execution_count": 24,
   "id": "77247b0a-d4fd-43b7-b505-7ef2186a74ac",
   "metadata": {},
   "outputs": [
    {
     "data": {
      "text/plain": [
       "array([[1., 0., 0.],\n",
       "       [0., 1., 0.],\n",
       "       [0., 0., 1.]])"
      ]
     },
     "execution_count": 24,
     "metadata": {},
     "output_type": "execute_result"
    }
   ],
   "source": [
    "eye = np.eye(3)\n",
    "eye"
   ]
  },
  {
   "cell_type": "code",
   "execution_count": 36,
   "id": "b359ea72-9ab6-4995-b1c2-3286111f7cfe",
   "metadata": {},
   "outputs": [
    {
     "data": {
      "text/plain": [
       "array([[1, 2],\n",
       "       [3, 4],\n",
       "       [1, 2],\n",
       "       [3, 4]])"
      ]
     },
     "execution_count": 36,
     "metadata": {},
     "output_type": "execute_result"
    }
   ],
   "source": [
    "# concatenate\n",
    "concatenated_arr = np.concatenate((arr, arr))\n",
    "concatenated_arr"
   ]
  },
  {
   "cell_type": "code",
   "execution_count": 33,
   "id": "4c43ba23-0669-4f8c-8af0-d0977f435c4e",
   "metadata": {},
   "outputs": [
    {
     "data": {
      "text/plain": [
       "array([[1, 3],\n",
       "       [2, 4]])"
      ]
     },
     "execution_count": 33,
     "metadata": {},
     "output_type": "execute_result"
    }
   ],
   "source": [
    "transposed_arr = arr.transpose()\n",
    "transposed_arr"
   ]
  },
  {
   "cell_type": "code",
   "execution_count": 39,
   "id": "a9ee97dd-1a53-4ea3-911f-3a6e45efe6bd",
   "metadata": {},
   "outputs": [
    {
     "data": {
      "text/plain": [
       "1"
      ]
     },
     "execution_count": 39,
     "metadata": {},
     "output_type": "execute_result"
    }
   ],
   "source": [
    "arr_min = np.min(arr)\n",
    "arr_min"
   ]
  },
  {
   "cell_type": "code",
   "execution_count": 40,
   "id": "017b0d87-29c6-43e2-9054-e05f30ba2343",
   "metadata": {},
   "outputs": [
    {
     "data": {
      "text/plain": [
       "10"
      ]
     },
     "execution_count": 40,
     "metadata": {},
     "output_type": "execute_result"
    }
   ],
   "source": [
    "# sum\n",
    "arr_sum  = np.sum(arr)\n",
    "arr_sum"
   ]
  },
  {
   "cell_type": "code",
   "execution_count": 41,
   "id": "486cbee4-e052-4bc6-9753-69dd462a7dbf",
   "metadata": {},
   "outputs": [
    {
     "data": {
      "text/plain": [
       "4"
      ]
     },
     "execution_count": 41,
     "metadata": {},
     "output_type": "execute_result"
    }
   ],
   "source": [
    "# max\n",
    "arr_max = np.max(arr)\n",
    "arr_max"
   ]
  },
  {
   "cell_type": "code",
   "execution_count": 42,
   "id": "bf9a0c5f-d4b9-4823-ad7b-ec3999f9d88d",
   "metadata": {},
   "outputs": [
    {
     "data": {
      "text/plain": [
       "array([[ 7, 10],\n",
       "       [15, 22]])"
      ]
     },
     "execution_count": 42,
     "metadata": {},
     "output_type": "execute_result"
    }
   ],
   "source": [
    "dot_product = np.dot(arr, arr)\n",
    "dot_product"
   ]
  },
  {
   "cell_type": "code",
   "execution_count": 47,
   "id": "aa654b3a-02f9-4316-af22-3fcd7c255990",
   "metadata": {},
   "outputs": [
    {
     "data": {
      "text/plain": [
       "2.99"
      ]
     },
     "execution_count": 47,
     "metadata": {},
     "output_type": "execute_result"
    }
   ],
   "source": [
    "# absolute\n",
    "absolute_values = np.abs(2.99)\n",
    "absolute_values"
   ]
  },
  {
   "cell_type": "code",
   "execution_count": 45,
   "id": "31573af0-7b35-41c2-bf59-139f57f9cacb",
   "metadata": {},
   "outputs": [
    {
     "data": {
      "text/plain": [
       "1.4142135623730951"
      ]
     },
     "execution_count": 45,
     "metadata": {},
     "output_type": "execute_result"
    }
   ],
   "source": [
    "# sqrt\n",
    "square_root = np.sqrt(2)\n",
    "square_root"
   ]
  },
  {
   "cell_type": "code",
   "execution_count": 49,
   "id": "c4a5338b-cedf-43cb-bd17-154daeb02d62",
   "metadata": {},
   "outputs": [
    {
     "data": {
      "text/plain": [
       "22026.465794806718"
      ]
     },
     "execution_count": 49,
     "metadata": {},
     "output_type": "execute_result"
    }
   ],
   "source": [
    "# exponent\n",
    "exponential_values = np.exp(10)\n",
    "exponential_values"
   ]
  },
  {
   "cell_type": "code",
   "execution_count": 50,
   "id": "03342e3f-3700-4cb6-8b13-8f0aab5bc929",
   "metadata": {},
   "outputs": [
    {
     "data": {
      "text/plain": [
       "2.5"
      ]
     },
     "execution_count": 50,
     "metadata": {},
     "output_type": "execute_result"
    }
   ],
   "source": [
    "# percentile\n",
    "per = np.percentile(arr, 50)\n",
    "per"
   ]
  },
  {
   "cell_type": "code",
   "execution_count": 51,
   "id": "41863fdb-9b70-4c0a-b481-bb8230ffa4f4",
   "metadata": {},
   "outputs": [
    {
     "data": {
      "text/plain": [
       "array([[0.5, 0.5],\n",
       "       [0.5, 0.5]])"
      ]
     },
     "execution_count": 51,
     "metadata": {},
     "output_type": "execute_result"
    }
   ],
   "source": [
    "cov_matrix = np.cov(arr)\n",
    "cov_matrix"
   ]
  },
  {
   "cell_type": "code",
   "execution_count": 53,
   "id": "d9173cab-1464-473e-8d5c-facba21e9efc",
   "metadata": {},
   "outputs": [
    {
     "data": {
      "text/plain": [
       "array([[1.        , 1.41421356],\n",
       "       [1.73205081, 2.        ]])"
      ]
     },
     "execution_count": 53,
     "metadata": {},
     "output_type": "execute_result"
    }
   ],
   "source": [
    "sqrt_result = np.sqrt(arr)\n",
    "sqrt_result"
   ]
  },
  {
   "cell_type": "code",
   "execution_count": 57,
   "id": "abf0f819-6faf-43c3-a9a0-7e58288eccf9",
   "metadata": {},
   "outputs": [
    {
     "data": {
      "text/plain": [
       "5.0"
      ]
     },
     "execution_count": 57,
     "metadata": {},
     "output_type": "execute_result"
    }
   ],
   "source": [
    "# division\n",
    "div = np.divide(25, 5)\n",
    "div"
   ]
  },
  {
   "cell_type": "code",
   "execution_count": 58,
   "id": "20fde58d-8826-4cc8-9556-c839a44a6f64",
   "metadata": {},
   "outputs": [
    {
     "data": {
      "text/plain": [
       "125"
      ]
     },
     "execution_count": 58,
     "metadata": {},
     "output_type": "execute_result"
    }
   ],
   "source": [
    "# multiplication\n",
    "mul = np.multiply(25, 5)\n",
    "mul"
   ]
  },
  {
   "cell_type": "code",
   "execution_count": 62,
   "id": "ecb27eb6-381c-452d-9c34-c5922c9b75c8",
   "metadata": {},
   "outputs": [
    {
     "data": {
      "text/plain": [
       "-19"
      ]
     },
     "execution_count": 62,
     "metadata": {},
     "output_type": "execute_result"
    }
   ],
   "source": [
    "# subtraction\n",
    "sub = np.subtract(-24, -5)\n",
    "sub"
   ]
  },
  {
   "cell_type": "code",
   "execution_count": null,
   "id": "efb7e19b-2bb5-48d7-8eb7-45204fe4fe16",
   "metadata": {},
   "outputs": [],
   "source": []
  }
 ],
 "metadata": {
  "kernelspec": {
   "display_name": "Python 3 (ipykernel)",
   "language": "python",
   "name": "python3"
  },
  "language_info": {
   "codemirror_mode": {
    "name": "ipython",
    "version": 3
   },
   "file_extension": ".py",
   "mimetype": "text/x-python",
   "name": "python",
   "nbconvert_exporter": "python",
   "pygments_lexer": "ipython3",
   "version": "3.11.7"
  }
 },
 "nbformat": 4,
 "nbformat_minor": 5
}
