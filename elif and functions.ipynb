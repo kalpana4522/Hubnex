{
 "cells": [
  {
   "cell_type": "markdown",
   "id": "efbfbd69-a77a-4150-9541-56bf213a6aeb",
   "metadata": {},
   "source": [
    "# elif"
   ]
  },
  {
   "cell_type": "code",
   "execution_count": 1,
   "id": "6ba7d099-81f9-4cd8-8a69-b54ed470bb0e",
   "metadata": {},
   "outputs": [
    {
     "name": "stdout",
     "output_type": "stream",
     "text": [
      "a and b are equal\n"
     ]
    }
   ],
   "source": [
    "a = 33\n",
    "b = 33\n",
    "if b > a:\n",
    "  print(\"b is greater than a\")\n",
    "elif a == b:\n",
    "  print(\"a and b are equal\")\n"
   ]
  },
  {
   "cell_type": "markdown",
   "id": "c3f5f88a-de89-42af-88bf-0256957f64e9",
   "metadata": {},
   "source": [
    "# Else"
   ]
  },
  {
   "cell_type": "markdown",
   "id": "949af29d-e522-43c3-8b94-6490a34dc644",
   "metadata": {},
   "source": [
    "* The else keyword catches anything which isn't caught by the preceding conditions."
   ]
  },
  {
   "cell_type": "code",
   "execution_count": 4,
   "id": "dd429739-f2b2-4748-af21-af2ec28bbd11",
   "metadata": {},
   "outputs": [
    {
     "name": "stdout",
     "output_type": "stream",
     "text": [
      "a is greater than b\n"
     ]
    }
   ],
   "source": [
    "a = 200\n",
    "b = 33\n",
    "if b > a:\n",
    "  print(\"b is greater than a\")\n",
    "elif a == b:\n",
    "  print(\"a and b are equal\")\n",
    "else:\n",
    "  print(\"a is greater than b\")"
   ]
  },
  {
   "cell_type": "markdown",
   "id": "d3a5809b-70df-4f9e-bd91-c0a83e298d10",
   "metadata": {},
   "source": [
    "# Nested if\n",
    "* You can have if statements inside if statements, this is called nested if statements.\r\n",
    "\r\n"
   ]
  },
  {
   "cell_type": "code",
   "execution_count": 6,
   "id": "eaebc85e-91ba-4678-8144-4ad67ec924d8",
   "metadata": {},
   "outputs": [
    {
     "name": "stdout",
     "output_type": "stream",
     "text": [
      "Above ten,\n",
      "and also above 20!\n"
     ]
    }
   ],
   "source": [
    "x = 41\n",
    "if x > 10:\n",
    "  print(\"Above ten,\")\n",
    "  if x > 20:\n",
    "    print(\"and also above 20!\")\n",
    "  else:\n",
    "    print(\"but not above 20.\")\n"
   ]
  },
  {
   "cell_type": "markdown",
   "id": "74cd217c-1fd8-40e7-9515-4934c33cadbc",
   "metadata": {},
   "source": [
    "# Function "
   ]
  },
  {
   "cell_type": "code",
   "execution_count": 7,
   "id": "af027f64-c756-4fb9-bd4d-ca6c8ded2bd9",
   "metadata": {},
   "outputs": [
    {
     "name": "stdout",
     "output_type": "stream",
     "text": [
      "Hello world\n"
     ]
    }
   ],
   "source": [
    "def my_function():\n",
    "  print(\"Hello world\")\n",
    "my_function()"
   ]
  },
  {
   "cell_type": "markdown",
   "id": "1f6ac817-6518-40af-9679-3c196bc61bfa",
   "metadata": {},
   "source": [
    "# Calling function by passing argument\n",
    "* Information can be passed into functions as arguments.\r\n"
   ]
  },
  {
   "cell_type": "code",
   "execution_count": 12,
   "id": "0a524751-f643-4bb9-a1be-014c1a97e594",
   "metadata": {},
   "outputs": [
    {
     "name": "stdout",
     "output_type": "stream",
     "text": [
      "Kappi joshi\n",
      "Chom Chomya\n",
      "Dev Mude\n"
     ]
    }
   ],
   "source": [
    "def my_function(name , lname):\n",
    "  print(name + \" \" + lname)\n",
    "my_function(\"Kappi\", \"joshi\")\n",
    "my_function(\"Chom\", \"Chomya\")\n",
    "my_function(\"Dev\", \"Mude\")"
   ]
  },
  {
   "cell_type": "markdown",
   "id": "7b040dd5-2a83-4288-8142-327b23739259",
   "metadata": {},
   "source": [
    "# Passing list as argument\n",
    "* You can send any data types of argument to a function (string, number, list, dictionary etc.), and it will be treated as the same data type inside the function.\r\n"
   ]
  },
  {
   "cell_type": "code",
   "execution_count": 18,
   "id": "c2831d25-47b7-4a27-96e3-5ab9499a12ce",
   "metadata": {},
   "outputs": [
    {
     "name": "stdout",
     "output_type": "stream",
     "text": [
      "apple\n",
      "banana\n",
      "cherry\n"
     ]
    }
   ],
   "source": [
    "def my_function(food):\n",
    "  for x in food:\n",
    "    print(x)\n",
    "\n",
    "fruits = [\"apple\", \"banana\", \"cherry\"]\n",
    "\n",
    "my_function(fruits)\n"
   ]
  },
  {
   "cell_type": "markdown",
   "id": "26dc5fda-8c3f-4d96-9687-173b357d5bab",
   "metadata": {},
   "source": [
    "# Return Statement\n",
    "* To let a function return a value, use the return statement:\r\n",
    "\r\n"
   ]
  },
  {
   "cell_type": "code",
   "execution_count": 19,
   "id": "375ec135-afc6-4035-a032-8bb7d4a79534",
   "metadata": {},
   "outputs": [
    {
     "name": "stdout",
     "output_type": "stream",
     "text": [
      "6\n",
      "10\n",
      "18\n"
     ]
    }
   ],
   "source": [
    "def my_function(x):\n",
    "  return 2 * x\n",
    "print(my_function(3))\n",
    "print(my_function(5))\n",
    "print(my_function(9))"
   ]
  },
  {
   "cell_type": "markdown",
   "id": "c0a179a4-389d-4557-aa6f-830b1c862298",
   "metadata": {},
   "source": [
    "# Create a function operation join text\n",
    "* Joins a list of strings into a single string with the specified delimiter.\n"
   ]
  },
  {
   "cell_type": "code",
   "execution_count": 29,
   "id": "02c4dee3-3a05-44db-afa4-a19dc83fcdfc",
   "metadata": {},
   "outputs": [
    {
     "name": "stdout",
     "output_type": "stream",
     "text": [
      "Joined text: Python, is, a, programming, language\n"
     ]
    }
   ],
   "source": [
    "def join_text(strings, delimiter=\" \"):\n",
    "        return delimiter.join(strings)\n",
    "words = [\"Python\", \"is\", \"a\", \"programming\", \"language\"]\n",
    "jt = join_text(words, \", \")\n",
    "print(\"Joined text:\", jt)"
   ]
  },
  {
   "cell_type": "markdown",
   "id": "e0b77a25-06a8-4abb-9bea-d240049229bb",
   "metadata": {},
   "source": [
    "# Create a function using Trim operation\n",
    "* Removes leading and trailing whitespace from a string."
   ]
  },
  {
   "cell_type": "code",
   "execution_count": 34,
   "id": "af2f61c1-3994-4ec3-95cd-aa2d007a6e42",
   "metadata": {},
   "outputs": [
    {
     "name": "stdout",
     "output_type": "stream",
     "text": [
      "Trimmed text: Hello , Python!\n"
     ]
    }
   ],
   "source": [
    "def trim_text(text):\n",
    "    return text.strip() \n",
    "text_with_spaces = \"   Hello , Python!   \"\n",
    "trimmed_text = trim_text(text_with_spaces)\n",
    "print(\"Trimmed text:\", trimmed_text)"
   ]
  },
  {
   "cell_type": "markdown",
   "id": "3174ce74-deec-4eaa-98ed-9522ebcaa973",
   "metadata": {},
   "source": [
    "# Creating a function using Substitute operation\n",
    "* Replaces all occurrences of a substring with another substring."
   ]
  },
  {
   "cell_type": "code",
   "execution_count": 35,
   "id": "7b03d919-3df5-4743-9dbf-e76c0dd71563",
   "metadata": {},
   "outputs": [
    {
     "name": "stdout",
     "output_type": "stream",
     "text": [
      "Substituted text: JavaScript is a great programming language. JavaScript is popular.\n"
     ]
    }
   ],
   "source": [
    "def substitute_text(text, old, new):\n",
    "    return text.replace(old, new)\n",
    "original_text = \"Python is a great programming language. Python is popular.\"\n",
    "substituted_text = substitute_text(original_text, \"Python\", \"JavaScript\")\n",
    "print(\"Substituted text:\", substituted_text)"
   ]
  },
  {
   "cell_type": "markdown",
   "id": "92b69e7f-963c-4053-a0ad-19927f9b0999",
   "metadata": {},
   "source": [
    "# Create a function using cut and return  specific position of string\n",
    "* Extracts a substring from a string given start and end positions."
   ]
  },
  {
   "cell_type": "code",
   "execution_count": 40,
   "id": "82963091-85df-4773-9ad3-0ed34de25fba",
   "metadata": {},
   "outputs": [
    {
     "name": "stdout",
     "output_type": "stream",
     "text": [
      "Substring: programming\n"
     ]
    }
   ],
   "source": [
    "def get_substring(text, a, b):\n",
    "    return text[a:b]\n",
    "t1 = \"Python programming is fun!\"\n",
    "substring = get_substring(t1, 7, 18)\n",
    "print(\"Substring:\", substring)"
   ]
  },
  {
   "cell_type": "code",
   "execution_count": null,
   "id": "ae5429eb-1821-45cc-afca-b970aa87dd4b",
   "metadata": {},
   "outputs": [],
   "source": []
  }
 ],
 "metadata": {
  "kernelspec": {
   "display_name": "Python 3 (ipykernel)",
   "language": "python",
   "name": "python3"
  },
  "language_info": {
   "codemirror_mode": {
    "name": "ipython",
    "version": 3
   },
   "file_extension": ".py",
   "mimetype": "text/x-python",
   "name": "python",
   "nbconvert_exporter": "python",
   "pygments_lexer": "ipython3",
   "version": "3.11.7"
  }
 },
 "nbformat": 4,
 "nbformat_minor": 5
}
