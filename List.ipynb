{
 "cells": [
  {
   "cell_type": "markdown",
   "id": "9b85e3fe-e443-4c59-b3b2-bc5457e53c78",
   "metadata": {},
   "source": [
    "# list"
   ]
  },
  {
   "cell_type": "code",
   "execution_count": 3,
   "id": "935b20f2-d417-491c-92c7-0cbb012956ac",
   "metadata": {},
   "outputs": [
    {
     "name": "stdout",
     "output_type": "stream",
     "text": [
      "[2, 3, 4, 5, 7, 8, 0, 7, 5, 8, 1, 10]\n"
     ]
    }
   ],
   "source": [
    "list1 = [2,3,4,5,7,8,0,7,5,8,1,10]\n",
    "print(list1)"
   ]
  },
  {
   "cell_type": "code",
   "execution_count": 4,
   "id": "bd1b253e-99cb-4810-ab29-c6a21999fd84",
   "metadata": {},
   "outputs": [
    {
     "name": "stdout",
     "output_type": "stream",
     "text": [
      "[2, 'male', 40, True]\n"
     ]
    }
   ],
   "source": [
    "l1 = [2, 'male', 40, True]\n",
    "print(l1)"
   ]
  },
  {
   "cell_type": "markdown",
   "id": "a595faf5-473b-4216-89d0-50207fde2ce1",
   "metadata": {},
   "source": [
    "# Type\n",
    "\n",
    "a = type(l1)\n",
    "print(a)"
   ]
  },
  {
   "cell_type": "code",
   "execution_count": 7,
   "id": "7b5873db-93b7-4c8e-9180-1eafce7b49c7",
   "metadata": {},
   "outputs": [
    {
     "name": "stdout",
     "output_type": "stream",
     "text": [
      "['apple', 'banana', ' mango', 'kiwi']\n"
     ]
    }
   ],
   "source": [
    "mylist = list((\"apple\", \"banana\", \" mango\",\"kiwi\"))\n",
    "print(mylist)"
   ]
  },
  {
   "cell_type": "code",
   "execution_count": 8,
   "id": "2a4c5ece-0ebd-45a5-a7c0-dcd3510f302e",
   "metadata": {},
   "outputs": [
    {
     "name": "stdout",
     "output_type": "stream",
     "text": [
      "banana\n"
     ]
    }
   ],
   "source": [
    "print(mylist[1])"
   ]
  },
  {
   "cell_type": "markdown",
   "id": "ce360e0d-77c6-427c-b866-3fe1fae24cbc",
   "metadata": {},
   "source": [
    "# Replace"
   ]
  },
  {
   "cell_type": "code",
   "execution_count": 12,
   "id": "cb1172a7-11ca-4627-8c14-3bca4ec827d7",
   "metadata": {},
   "outputs": [
    {
     "name": "stdout",
     "output_type": "stream",
     "text": [
      "['apple', 'banana', 'papaya', 'kiwi']\n"
     ]
    }
   ],
   "source": [
    "mylist[2] = 'papaya'\n",
    "print(mylist)"
   ]
  },
  {
   "cell_type": "code",
   "execution_count": 13,
   "id": "07c59ffd-7637-4eac-b21a-8524cfbda08d",
   "metadata": {},
   "outputs": [
    {
     "name": "stdout",
     "output_type": "stream",
     "text": [
      "kiwi\n"
     ]
    }
   ],
   "source": [
    "print(mylist[-1])"
   ]
  },
  {
   "cell_type": "code",
   "execution_count": 14,
   "id": "d336aa0e-08ec-4e0e-80c5-f0feda5fc73c",
   "metadata": {},
   "outputs": [
    {
     "name": "stdout",
     "output_type": "stream",
     "text": [
      "papaya\n"
     ]
    }
   ],
   "source": [
    "print(mylist[2])"
   ]
  },
  {
   "cell_type": "markdown",
   "id": "891897f5-12ef-40a2-a176-0688fe74c79d",
   "metadata": {},
   "source": [
    "# Range"
   ]
  },
  {
   "cell_type": "code",
   "execution_count": 16,
   "id": "2929ea4b-bae7-4c90-a1d1-62a2417d9946",
   "metadata": {},
   "outputs": [
    {
     "name": "stdout",
     "output_type": "stream",
     "text": [
      "['one', 'two', 'three', 'four', 'five']\n"
     ]
    }
   ],
   "source": [
    "thislist = [\"one\",\"two\",\"three\",\"four\",\"five\"]\n",
    "print(thislist)"
   ]
  },
  {
   "cell_type": "code",
   "execution_count": 17,
   "id": "24a0f653-4783-4881-831a-67493a687dae",
   "metadata": {},
   "outputs": [
    {
     "name": "stdout",
     "output_type": "stream",
     "text": [
      "['three', 'four']\n"
     ]
    }
   ],
   "source": [
    "print(thislist[2:4])"
   ]
  },
  {
   "cell_type": "code",
   "execution_count": 19,
   "id": "5c8cfa6d-bf0b-4b51-b901-48624d1959fd",
   "metadata": {},
   "outputs": [
    {
     "name": "stdout",
     "output_type": "stream",
     "text": [
      "[3, 6, 9]\n"
     ]
    }
   ],
   "source": [
    "l2 = [1,2,3,4,5,6,7,8,9,10]\n",
    "print(l2[2:10:3])"
   ]
  },
  {
   "cell_type": "code",
   "execution_count": 22,
   "id": "a10308c0-c76b-4b8a-b2ef-d45c6c6478cd",
   "metadata": {},
   "outputs": [
    {
     "name": "stdout",
     "output_type": "stream",
     "text": [
      "[5, 6, 7, 8, 9, 10]\n"
     ]
    }
   ],
   "source": [
    "print(l2[4:])"
   ]
  },
  {
   "cell_type": "code",
   "execution_count": 23,
   "id": "2fd0d2ef-5b8c-4ff9-bfa0-c1dcdac08cf2",
   "metadata": {},
   "outputs": [
    {
     "name": "stdout",
     "output_type": "stream",
     "text": [
      "[1, 2, 3, 4]\n"
     ]
    }
   ],
   "source": [
    "print(l2[:4])"
   ]
  },
  {
   "cell_type": "code",
   "execution_count": 25,
   "id": "47f076d1-c7a9-4128-a732-0847a4534510",
   "metadata": {},
   "outputs": [
    {
     "name": "stdout",
     "output_type": "stream",
     "text": [
      "['a', 'b', 'c', 'd', 'e', 'f']\n"
     ]
    }
   ],
   "source": [
    "l3 = ['a','b','c','d','e','f']\n",
    "print(l3)"
   ]
  },
  {
   "cell_type": "code",
   "execution_count": 27,
   "id": "331ff238-e3fd-4f0f-92aa-223c7ace837e",
   "metadata": {},
   "outputs": [
    {
     "name": "stdout",
     "output_type": "stream",
     "text": [
      "['c', 'd', 'e', 'f']\n"
     ]
    }
   ],
   "source": [
    "print(l3[-4:])"
   ]
  },
  {
   "cell_type": "markdown",
   "id": "6e08f60b-52d4-4104-b9d6-62617c0ce7ad",
   "metadata": {},
   "source": [
    "# Sort"
   ]
  },
  {
   "cell_type": "code",
   "execution_count": 28,
   "id": "fa06530a-5820-4270-89b1-872cfef3bf1c",
   "metadata": {},
   "outputs": [
    {
     "name": "stdout",
     "output_type": "stream",
     "text": [
      "[56, 44, 72, 21, 54, 1, 3, 20, 39]\n"
     ]
    }
   ],
   "source": [
    "l4 = [56,44,72,21,54,1,3,20,39]\n",
    "print(l4)"
   ]
  },
  {
   "cell_type": "markdown",
   "id": "a55771ea-c6de-4853-a268-978f9c8f0ebf",
   "metadata": {},
   "source": [
    "# Insert"
   ]
  },
  {
   "cell_type": "code",
   "execution_count": 30,
   "id": "7208c660-2c7b-47ad-b949-28fac76b8efb",
   "metadata": {},
   "outputs": [
    {
     "name": "stdout",
     "output_type": "stream",
     "text": [
      "[56, 44, 'abc', 'abc', 72, 21, 54, 1, 3, 20, 39]\n"
     ]
    }
   ],
   "source": [
    "l4.insert(2, \"abc\")\n",
    "print(l4)"
   ]
  },
  {
   "cell_type": "markdown",
   "id": "d7dddd92-d7b8-4c45-a74a-b9e922ff4385",
   "metadata": {},
   "source": [
    "# Append"
   ]
  },
  {
   "cell_type": "code",
   "execution_count": 32,
   "id": "0e111d7d-f35f-4097-a4e6-0d185137e0ce",
   "metadata": {},
   "outputs": [
    {
     "name": "stdout",
     "output_type": "stream",
     "text": [
      "['apple', 'banana', 'papaya', 'kiwi']\n"
     ]
    }
   ],
   "source": [
    "print(mylist)"
   ]
  },
  {
   "cell_type": "code",
   "execution_count": 33,
   "id": "c5f05db8-1e08-4a19-92a6-bba2ce486f88",
   "metadata": {},
   "outputs": [
    {
     "name": "stdout",
     "output_type": "stream",
     "text": [
      "['apple', 'banana', 'papaya', 'kiwi', 'Pineapple']\n"
     ]
    }
   ],
   "source": [
    "mylist.append('Pineapple')\n",
    "print(mylist)"
   ]
  },
  {
   "cell_type": "code",
   "execution_count": 34,
   "id": "ab65b431-242a-477d-bf0a-68cc5deda9eb",
   "metadata": {},
   "outputs": [
    {
     "name": "stdout",
     "output_type": "stream",
     "text": [
      "Pineapple\n"
     ]
    }
   ],
   "source": [
    "print(mylist[-1])"
   ]
  },
  {
   "cell_type": "code",
   "execution_count": 36,
   "id": "705ea013-b09e-43e6-ab6e-9d11d3922116",
   "metadata": {},
   "outputs": [
    {
     "name": "stdout",
     "output_type": "stream",
     "text": [
      "['rin', 'min', 'tin', 'gin', 'pin', 'sin', 'jin']\n"
     ]
    }
   ],
   "source": [
    "a1 = ['rin','min','tin','gin']\n",
    "a2 = ['pin','sin','jin']\n",
    "a1.extend(a2)\n",
    "print(a1)"
   ]
  },
  {
   "cell_type": "markdown",
   "id": "de79071a-5641-4aff-a2af-d2b1a7749d8c",
   "metadata": {},
   "source": [
    "# Remove"
   ]
  },
  {
   "cell_type": "code",
   "execution_count": 38,
   "id": "617ab44b-a69c-4391-85e0-f447d9a0c1dc",
   "metadata": {},
   "outputs": [
    {
     "name": "stdout",
     "output_type": "stream",
     "text": [
      "['apple', 'banana', 'papaya', 'kiwi', 'Pineapple']\n"
     ]
    }
   ],
   "source": [
    "print(mylist)"
   ]
  },
  {
   "cell_type": "code",
   "execution_count": 39,
   "id": "c0c063d5-8715-470e-8ce6-4e9f3e7f8143",
   "metadata": {},
   "outputs": [
    {
     "name": "stdout",
     "output_type": "stream",
     "text": [
      "['apple', 'papaya', 'kiwi', 'Pineapple']\n"
     ]
    }
   ],
   "source": [
    "mylist.remove(\"banana\")\n",
    "print(mylist)"
   ]
  },
  {
   "cell_type": "code",
   "execution_count": 40,
   "id": "e2e5a4b3-f3da-46bb-b0c0-1f625d738321",
   "metadata": {},
   "outputs": [
    {
     "name": "stdout",
     "output_type": "stream",
     "text": [
      "['apple', 'papaya', 'kiwi']\n"
     ]
    }
   ],
   "source": [
    "mylist.pop()\n",
    "print(mylist)"
   ]
  },
  {
   "cell_type": "markdown",
   "id": "cfa5f681-36c6-4afe-b309-821bdee882ee",
   "metadata": {},
   "source": [
    "# Del"
   ]
  },
  {
   "cell_type": "code",
   "execution_count": 42,
   "id": "f8b9a62c-c710-43ad-b8a1-4af726a9e1eb",
   "metadata": {},
   "outputs": [
    {
     "name": "stdout",
     "output_type": "stream",
     "text": [
      "['rin', 'min', 'tin', 'gin', 'pin', 'sin', 'jin']\n"
     ]
    }
   ],
   "source": [
    "print(a1)"
   ]
  },
  {
   "cell_type": "code",
   "execution_count": 45,
   "id": "0c0f85b8-4026-4f3b-afdb-5b12d0f4aa4e",
   "metadata": {},
   "outputs": [
    {
     "name": "stdout",
     "output_type": "stream",
     "text": [
      "['rin', 'min', 'tin', 'pin', 'sin', 'jin']\n"
     ]
    }
   ],
   "source": [
    "del a1[3]\n",
    "print(a1)"
   ]
  },
  {
   "cell_type": "code",
   "execution_count": null,
   "id": "2e7013ee-bc2f-4f32-87d7-f332630d55f1",
   "metadata": {},
   "outputs": [],
   "source": []
  }
 ],
 "metadata": {
  "kernelspec": {
   "display_name": "Python 3 (ipykernel)",
   "language": "python",
   "name": "python3"
  },
  "language_info": {
   "codemirror_mode": {
    "name": "ipython",
    "version": 3
   },
   "file_extension": ".py",
   "mimetype": "text/x-python",
   "name": "python",
   "nbconvert_exporter": "python",
   "pygments_lexer": "ipython3",
   "version": "3.11.7"
  }
 },
 "nbformat": 4,
 "nbformat_minor": 5
}
