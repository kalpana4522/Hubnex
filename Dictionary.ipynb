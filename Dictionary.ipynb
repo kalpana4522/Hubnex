{
 "cells": [
  {
   "cell_type": "code",
   "execution_count": 10,
   "id": "3349aac4-e8cc-49d5-b04c-534d6d021700",
   "metadata": {},
   "outputs": [
    {
     "name": "stdout",
     "output_type": "stream",
     "text": [
      "{'brand': 'Ford', 'model': 'Mustang', 'year': 1964}\n"
     ]
    }
   ],
   "source": [
    "d1 =\t{\n",
    "  \"brand\": \"Ford\",\n",
    "  \"model\": \"Mustang\",\n",
    "  \"year\": 1964\n",
    "}\n",
    "print(d1)\n"
   ]
  },
  {
   "cell_type": "code",
   "execution_count": 2,
   "id": "3fe02e41-2b4f-48c1-9b9a-07b86253afd0",
   "metadata": {},
   "outputs": [
    {
     "name": "stdout",
     "output_type": "stream",
     "text": [
      "Ford\n"
     ]
    }
   ],
   "source": [
    "print(dict[\"brand\"])"
   ]
  },
  {
   "cell_type": "code",
   "execution_count": 11,
   "id": "897618c6-cc38-4716-a487-32eb96c7bdea",
   "metadata": {},
   "outputs": [
    {
     "name": "stdout",
     "output_type": "stream",
     "text": [
      "{'brand': 'Ford', 'model': 'Mustang', 'year': 2020}\n"
     ]
    }
   ],
   "source": [
    "d1 = {\n",
    "  \"brand\": \"Ford\",\n",
    "  \"model\": \"Mustang\",\n",
    "  \"year\": 1964,\n",
    "  \"year\": 2020\n",
    "}\n",
    "print(d1)\n"
   ]
  },
  {
   "cell_type": "code",
   "execution_count": 22,
   "id": "7f1039c0-d40d-4688-9945-172a7bbcea8c",
   "metadata": {},
   "outputs": [
    {
     "name": "stdout",
     "output_type": "stream",
     "text": [
      "<class 'dict'>\n"
     ]
    }
   ],
   "source": [
    "d1 = {\n",
    "  \"brand\": \"Ford\",\n",
    "  \"model\": \"Mustang\",\n",
    "  \"year\": 1964\n",
    "}\n",
    "print(type(d1))\n"
   ]
  },
  {
   "cell_type": "code",
   "execution_count": 23,
   "id": "703bd524-f12f-4c6f-9666-5ff5e87aaa3b",
   "metadata": {},
   "outputs": [
    {
     "name": "stdout",
     "output_type": "stream",
     "text": [
      "Mustang\n"
     ]
    }
   ],
   "source": [
    "d1 =\t{\n",
    "  \"brand\": \"Ford\",\n",
    "  \"model\": \"Mustang\",\n",
    "  \"year\": 1964\n",
    "}\n",
    "x = d1[\"model\"]\n",
    "print(x)\n"
   ]
  },
  {
   "cell_type": "code",
   "execution_count": 25,
   "id": "a302b533-3b8b-4383-9050-d2fe2aa982fe",
   "metadata": {},
   "outputs": [
    {
     "name": "stdout",
     "output_type": "stream",
     "text": [
      "Mustang\n"
     ]
    }
   ],
   "source": [
    "d1 =\t{\n",
    "  \"brand\": \"Ford\",\n",
    "  \"model\": \"Mustang\",\n",
    "  \"year\": 1964\n",
    "}\n",
    "x = d1.get(\"model\")\n",
    "print(x)\n"
   ]
  },
  {
   "cell_type": "markdown",
   "id": "44807c72-95f8-4204-b135-0715ebeffebe",
   "metadata": {},
   "source": [
    "# Get keys and values"
   ]
  },
  {
   "cell_type": "code",
   "execution_count": 44,
   "id": "d30562ba-d408-44ba-b630-9d1e57ca0577",
   "metadata": {},
   "outputs": [
    {
     "name": "stdout",
     "output_type": "stream",
     "text": [
      "dict_keys(['brand', 'model', 'year'])\n",
      "{'brand': 'Audi', 'model': 'KIA', 'year': 1976}\n"
     ]
    }
   ],
   "source": [
    "d1 =\t{\n",
    "  \"brand\": \"Ford\",\n",
    "  \"model\": \"Mustang\",\n",
    "  \"year\": 1964\n",
    "}\n",
    "x = d1.keys()\n",
    "print(x)\n",
    "\n",
    "car = {\n",
    "    \"brand\": \"Audi\",\n",
    "    \"model\": \"KIA\",\n",
    "    \"year\": 1976\n",
    "}\n",
    "print(car)"
   ]
  },
  {
   "cell_type": "code",
   "execution_count": 30,
   "id": "e000997f-a21d-4505-a8e9-258297885bbc",
   "metadata": {},
   "outputs": [
    {
     "name": "stdout",
     "output_type": "stream",
     "text": [
      "{'brand': 'Audi', 'model': 'KIA', 'year': 1976}\n"
     ]
    }
   ],
   "source": [
    "car = {\n",
    "    \"brand\": \"Audi\",\n",
    "    \"model\": \"KIA\",\n",
    "    \"year\": 1976\n",
    "}\n",
    "print(car)\n"
   ]
  },
  {
   "cell_type": "code",
   "execution_count": 29,
   "id": "72be0097-2ca7-4021-a0a7-3794dd51e490",
   "metadata": {},
   "outputs": [
    {
     "name": "stdout",
     "output_type": "stream",
     "text": [
      "dict_keys(['brand', 'model', 'year'])\n"
     ]
    }
   ],
   "source": [
    "x = car.keys()\n",
    "print(x)"
   ]
  },
  {
   "cell_type": "code",
   "execution_count": 34,
   "id": "c637b237-319c-4a46-9964-323f87a90885",
   "metadata": {},
   "outputs": [
    {
     "name": "stdout",
     "output_type": "stream",
     "text": [
      "{'brand': 'Audi', 'model': 'KIA', 'year': 1976, 'color': 'white'}\n"
     ]
    }
   ],
   "source": [
    "car['color'] = \"white\"\n",
    "print(car)"
   ]
  },
  {
   "cell_type": "code",
   "execution_count": 35,
   "id": "465ee385-f6b2-424d-98a6-5abc15f0a5f9",
   "metadata": {},
   "outputs": [],
   "source": [
    "x = car.keys()"
   ]
  },
  {
   "cell_type": "code",
   "execution_count": 37,
   "id": "2fb09f1d-2e88-464c-857e-08598a8d6ac1",
   "metadata": {},
   "outputs": [
    {
     "name": "stdout",
     "output_type": "stream",
     "text": [
      "dict_keys(['brand', 'model', 'year', 'color'])\n"
     ]
    }
   ],
   "source": [
    "print(x)"
   ]
  },
  {
   "cell_type": "code",
   "execution_count": 41,
   "id": "6586a8e5-6159-4cd9-b72c-4a0fc11369b3",
   "metadata": {},
   "outputs": [],
   "source": [
    "x = car.values()"
   ]
  },
  {
   "cell_type": "code",
   "execution_count": 42,
   "id": "c82b9703-a4fe-411c-a5f7-b0a855b7f8d2",
   "metadata": {},
   "outputs": [
    {
     "name": "stdout",
     "output_type": "stream",
     "text": [
      "dict_values(['Audi', 'KIA', 1976, 'white'])\n"
     ]
    }
   ],
   "source": [
    "print(x)"
   ]
  },
  {
   "cell_type": "markdown",
   "id": "5cbaa13e-3a76-473e-846e-3b7c13a172b0",
   "metadata": {},
   "source": [
    "# Items"
   ]
  },
  {
   "cell_type": "code",
   "execution_count": 45,
   "id": "21a69512-6e77-45c5-bfdb-319224d70cbb",
   "metadata": {},
   "outputs": [
    {
     "name": "stdout",
     "output_type": "stream",
     "text": [
      "dict_items([('brand', 'Ford'), ('model', 'Mustang'), ('year', 1964)])\n"
     ]
    }
   ],
   "source": [
    "d2 = {\n",
    "  \"brand\": \"Ford\",\n",
    "  \"model\": \"Mustang\",\n",
    "  \"year\": 1964\n",
    "}\n",
    "x = d2.items()\n",
    "print(x)\n"
   ]
  },
  {
   "cell_type": "code",
   "execution_count": 47,
   "id": "b71114e3-10a8-47cc-9224-0c1cf7363ec5",
   "metadata": {},
   "outputs": [
    {
     "name": "stdout",
     "output_type": "stream",
     "text": [
      "{'brand': 'Ford', 'model': 'Mustang', 'year': 2018}\n"
     ]
    }
   ],
   "source": [
    "d3 =\t{\n",
    "  \"brand\": \"Ford\",\n",
    "  \"model\": \"Mustang\",\n",
    "  \"year\": 1964\n",
    "}\n",
    "d3[\"year\"] = 2018\n",
    "print(d3)\n"
   ]
  },
  {
   "cell_type": "markdown",
   "id": "3f86434c-b6f7-4fee-956d-7824f9a1a6ef",
   "metadata": {},
   "source": [
    "# Adding Items"
   ]
  },
  {
   "cell_type": "code",
   "execution_count": 48,
   "id": "4174e29f-9334-4571-825a-2761c2051b43",
   "metadata": {},
   "outputs": [
    {
     "name": "stdout",
     "output_type": "stream",
     "text": [
      "{'brand': 'Ford', 'model': 'Mustang', 'year': 1964, 'color': 'red'}\n"
     ]
    }
   ],
   "source": [
    "d3 =\t{\n",
    "  \"brand\": \"Ford\",\n",
    "  \"model\": \"Mustang\",\n",
    "  \"year\": 1964\n",
    "}\n",
    "d3[\"color\"] = \"red\"\n",
    "print(d3)\n"
   ]
  },
  {
   "cell_type": "markdown",
   "id": "fa9543f6-1465-4488-a7a3-2d1a0fa5a86c",
   "metadata": {},
   "source": [
    "# Update"
   ]
  },
  {
   "cell_type": "code",
   "execution_count": 50,
   "id": "a6a5d324-6968-4f6b-97b2-167b6635ab49",
   "metadata": {},
   "outputs": [
    {
     "name": "stdout",
     "output_type": "stream",
     "text": [
      "{'brand': 'Ford', 'model': 'Mustang', 'year': 1964, 'color': 'red'}\n"
     ]
    }
   ],
   "source": [
    "d3 = {\n",
    "  \"brand\": \"Ford\",\n",
    "  \"model\": \"Mustang\",\n",
    "  \"year\": 1964\n",
    "}\n",
    "d3.update({\"color\": \"red\"})\n",
    "print(d3)\n"
   ]
  },
  {
   "cell_type": "markdown",
   "id": "f2d571e0-0eca-4cd6-a9ba-5a9aa7c003f7",
   "metadata": {},
   "source": [
    "# Removing Items"
   ]
  },
  {
   "cell_type": "code",
   "execution_count": 51,
   "id": "bb0eefbb-53d1-4e84-a4b8-56be9d006243",
   "metadata": {},
   "outputs": [
    {
     "name": "stdout",
     "output_type": "stream",
     "text": [
      "{'brand': 'Ford', 'year': 1964}\n"
     ]
    }
   ],
   "source": [
    "d4 =\t{\n",
    "  \"brand\": \"Ford\",\n",
    "  \"model\": \"Mustang\",\n",
    "  \"year\": 1964\n",
    "}\n",
    "d4.pop(\"model\")\n",
    "print(d4)\n"
   ]
  },
  {
   "cell_type": "markdown",
   "id": "69aa0798-7680-4c2f-8cf4-842b455a84ec",
   "metadata": {},
   "source": [
    "# Del keyword"
   ]
  },
  {
   "cell_type": "code",
   "execution_count": 53,
   "id": "f63f0768-0202-4b65-b7a6-4ced8f76113d",
   "metadata": {},
   "outputs": [
    {
     "name": "stdout",
     "output_type": "stream",
     "text": [
      "{'brand': 'Ford', 'model': 'Mustang'}\n"
     ]
    }
   ],
   "source": [
    "dict =\t{\n",
    "  \"brand\": \"Ford\",\n",
    "  \"model\": \"Mustang\",\n",
    "  \"year\": 1964\n",
    "}\n",
    "del dict[\"year\"]\n",
    "print(dict)\n"
   ]
  },
  {
   "cell_type": "markdown",
   "id": "71cb4539-5983-480c-b148-3c54780a80a2",
   "metadata": {},
   "source": [
    "# Loop"
   ]
  },
  {
   "cell_type": "code",
   "execution_count": 55,
   "id": "c3d707bd-dbe3-4856-b0d3-1b90c58158f9",
   "metadata": {},
   "outputs": [
    {
     "name": "stdout",
     "output_type": "stream",
     "text": [
      "Ford\n",
      "Mustang\n",
      "1964\n"
     ]
    }
   ],
   "source": [
    "a1 =\t{\n",
    "  \"brand\": \"Ford\",\n",
    "  \"model\": \"Mustang\",\n",
    "  \"year\": 1964\n",
    "}\n",
    "for x in a1:\n",
    "  print(a1[x])\n"
   ]
  },
  {
   "cell_type": "code",
   "execution_count": 60,
   "id": "ce992809-887b-4e79-b63e-ec91592a0f40",
   "metadata": {},
   "outputs": [
    {
     "name": "stdout",
     "output_type": "stream",
     "text": [
      "brand\n",
      "model\n",
      "year\n"
     ]
    }
   ],
   "source": [
    "a =\t{\n",
    "  \"brand\": \"Ford\",\n",
    "  \"model\": \"Mustang\",\n",
    "  \"year\": 1964\n",
    "}\n",
    "for x in a.keys():\n",
    "  print(x)\n"
   ]
  },
  {
   "cell_type": "code",
   "execution_count": 59,
   "id": "7754969c-84a4-4e30-9690-16c863d872ef",
   "metadata": {},
   "outputs": [
    {
     "name": "stdout",
     "output_type": "stream",
     "text": [
      "brand Ford\n",
      "model Mustang\n",
      "year 1964\n"
     ]
    }
   ],
   "source": [
    "thisdict =\t{\n",
    "  \"brand\": \"Ford\",\n",
    "  \"model\": \"Mustang\",\n",
    "  \"year\": 1964\n",
    "}\n",
    "for x, y in thisdict.items():\n",
    "  print(x, y)\n"
   ]
  },
  {
   "cell_type": "code",
   "execution_count": 61,
   "id": "ed745967-1a05-41f5-893d-4752c896c57e",
   "metadata": {},
   "outputs": [
    {
     "name": "stdout",
     "output_type": "stream",
     "text": [
      "{'child1': {'name': 'Rina', 'year': 2004}, 'child2': {'name': 'Dev', 'year': 2007}, 'child3': {'name': 'Kalpana', 'year': 2011}}\n"
     ]
    }
   ],
   "source": [
    "family = {\n",
    "  \"child1\" : {\n",
    "    \"name\" : \"Rina\",\n",
    "    \"year\" : 2004\n",
    "  },\n",
    "  \"child2\" : {\n",
    "    \"name\" : \"Dev\",\n",
    "    \"year\" : 2007\n",
    "  },\n",
    "  \"child3\" : {\n",
    "    \"name\" : \"Kalpana\",\n",
    "    \"year\" : 2011\n",
    "  }\n",
    "}\n",
    "print(family)\n"
   ]
  },
  {
   "cell_type": "code",
   "execution_count": 65,
   "id": "efa9b516-3b90-445e-821e-1368b5e20317",
   "metadata": {},
   "outputs": [
    {
     "name": "stdout",
     "output_type": "stream",
     "text": [
      "Dev\n"
     ]
    }
   ],
   "source": [
    "print(family[\"child2\"][\"name\"])\n"
   ]
  },
  {
   "cell_type": "code",
   "execution_count": null,
   "id": "bd125a43-b5ef-4a0c-88ea-98c4e1b7974d",
   "metadata": {},
   "outputs": [],
   "source": []
  }
 ],
 "metadata": {
  "kernelspec": {
   "display_name": "Python 3 (ipykernel)",
   "language": "python",
   "name": "python3"
  },
  "language_info": {
   "codemirror_mode": {
    "name": "ipython",
    "version": 3
   },
   "file_extension": ".py",
   "mimetype": "text/x-python",
   "name": "python",
   "nbconvert_exporter": "python",
   "pygments_lexer": "ipython3",
   "version": "3.11.7"
  }
 },
 "nbformat": 4,
 "nbformat_minor": 5
}
