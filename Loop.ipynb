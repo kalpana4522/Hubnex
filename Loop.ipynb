{
 "cells": [
  {
   "cell_type": "markdown",
   "id": "7f48ab7c-9688-493e-87c8-10f3ef291e3e",
   "metadata": {},
   "source": [
    "# For loop\n",
    "* A for loop is used for iterating over a sequence (that is either a list, a tuple, a dictionary, a set, or a string).\n",
    "\r\n"
   ]
  },
  {
   "cell_type": "code",
   "execution_count": 14,
   "id": "43e776de-de48-48b3-b329-166e7f682055",
   "metadata": {},
   "outputs": [
    {
     "name": "stdout",
     "output_type": "stream",
     "text": [
      "['banana', 'mango', 'grapes', 'pineapple', 'watermelon', 'orange', 'apple', 'avacado', 'dragonfruit', 'chiku', 'Anaar']\n",
      "banana\n",
      "mango\n",
      "grapes\n",
      "pineapple\n",
      "watermelon\n",
      "orange\n",
      "apple\n",
      "avacado\n",
      "dragonfruit\n",
      "chiku\n",
      "Anaar\n",
      "apple\n",
      "banana\n"
     ]
    }
   ],
   "source": [
    "lFruit = ['banana','mango','grapes','pineapple','watermelon',\n",
    "          'orange','apple','avacado','dragonfruit','chiku','Anaar']\n",
    "print(lFruit)\n",
    "for x in lFruit:\n",
    "    print(x)\n",
    "    \n",
    "fruits = [\"apple\", \"banana\", \"cherry\"]\n",
    "for x in fruits:\n",
    "  print(x)\n",
    "  if x == \"banana\":\n",
    "    break"
   ]
  },
  {
   "cell_type": "markdown",
   "id": "a81ccf7f-be1f-4e76-91ac-977f6c3d930d",
   "metadata": {},
   "source": [
    "# continue statement\n",
    "* With the continue statement we can stop the current iteration of the loop, and continue with the next:"
   ]
  },
  {
   "cell_type": "code",
   "execution_count": 16,
   "id": "91918a40-ef98-4115-95b8-8d39ed6e3681",
   "metadata": {},
   "outputs": [
    {
     "name": "stdout",
     "output_type": "stream",
     "text": [
      "apple\n",
      "cherry\n"
     ]
    }
   ],
   "source": [
    "fruits = [\"apple\", \"banana\", \"cherry\"]\n",
    "for x in fruits:\n",
    "  if x == \"banana\":\n",
    "    continue\n",
    "  print(x)"
   ]
  },
  {
   "cell_type": "markdown",
   "id": "4a13547f-fe32-4ac7-9dbf-094ba5cc333b",
   "metadata": {},
   "source": [
    "# Range\n",
    "* The range() function returns a sequence of numbers, starting from 0 by default, and increments by 1 (by default), and ends at a specified number."
   ]
  },
  {
   "cell_type": "markdown",
   "id": "1f3a59a6-f6bb-41ef-9f22-44ff9a9bbeac",
   "metadata": {},
   "source": [
    "# Range\n",
    "* The range() function returns a sequence of numbers, starting from 0 by default, and increments by 1 (by default), and ends at a specified number."
   ]
  },
  {
   "cell_type": "code",
   "execution_count": 23,
   "id": "9f6ae72e-17b3-4b01-82a4-bae2eab889ad",
   "metadata": {},
   "outputs": [
    {
     "name": "stdout",
     "output_type": "stream",
     "text": [
      "2\n",
      "4\n",
      "6\n",
      "8\n",
      "10\n",
      "12\n",
      "14\n",
      "16\n",
      "18\n"
     ]
    }
   ],
   "source": [
    "for x in range(2,20,2):\n",
    "  print(x)"
   ]
  },
  {
   "cell_type": "code",
   "execution_count": 24,
   "id": "093242df-eb0d-4900-a046-bfdbc4a6a6c1",
   "metadata": {},
   "outputs": [
    {
     "name": "stdout",
     "output_type": "stream",
     "text": [
      "0\n",
      "1\n",
      "2\n",
      "3\n",
      "4\n",
      "5\n",
      "Finally finished!\n"
     ]
    }
   ],
   "source": [
    "for x in range(6):\n",
    "  print(x)\n",
    "else:\n",
    "  print(\"Finally finished!\")"
   ]
  },
  {
   "cell_type": "markdown",
   "id": "d817f3f3-4c6e-4e36-9563-c9dce9695d13",
   "metadata": {},
   "source": [
    "# Nested Loop\n",
    "* A nested loop is a loop inside a loop.\r\n",
    "\r\n"
   ]
  },
  {
   "cell_type": "code",
   "execution_count": 25,
   "id": "8c39287a-5563-41b1-bd4f-7e55c0280dd2",
   "metadata": {},
   "outputs": [
    {
     "name": "stdout",
     "output_type": "stream",
     "text": [
      "red apple\n",
      "red banana\n",
      "red cherry\n",
      "big apple\n",
      "big banana\n",
      "big cherry\n",
      "tasty apple\n",
      "tasty banana\n",
      "tasty cherry\n"
     ]
    }
   ],
   "source": [
    "adj = [\"red\", \"big\", \"tasty\"]\n",
    "fruits = [\"apple\", \"banana\", \"cherry\"]\n",
    "for x in adj:\n",
    "  for y in fruits:\n",
    "    print(x, y)\n"
   ]
  },
  {
   "cell_type": "markdown",
   "id": "726237f1-1613-4090-9893-29099afc8f41",
   "metadata": {},
   "source": [
    "# while loop\n",
    "* With the while loop we can execute a set of statements as long as a condition is true.\r",
    "\r\n"
   ]
  },
  {
   "cell_type": "code",
   "execution_count": 26,
   "id": "2e5fb20b-87fa-4335-b134-21c6c901b280",
   "metadata": {},
   "outputs": [
    {
     "name": "stdout",
     "output_type": "stream",
     "text": [
      "1\n",
      "2\n",
      "3\n",
      "4\n",
      "5\n"
     ]
    }
   ],
   "source": [
    "i = 1\n",
    "while i < 6:\n",
    "  print(i)\n",
    "  i += 1"
   ]
  },
  {
   "cell_type": "code",
   "execution_count": 27,
   "id": "889ef1b3-f089-48ed-b644-92657c1dcf28",
   "metadata": {},
   "outputs": [
    {
     "name": "stdout",
     "output_type": "stream",
     "text": [
      "1\n",
      "2\n",
      "3\n"
     ]
    }
   ],
   "source": [
    "i = 1\n",
    "while i < 6:\n",
    "  print(i)\n",
    "  if i == 3:\n",
    "    break\n",
    "  i += 1"
   ]
  },
  {
   "cell_type": "code",
   "execution_count": 28,
   "id": "9116ab1b-21ee-4977-9c9f-da10d836b97e",
   "metadata": {},
   "outputs": [
    {
     "name": "stdout",
     "output_type": "stream",
     "text": [
      "1\n",
      "2\n",
      "4\n",
      "5\n",
      "6\n"
     ]
    }
   ],
   "source": [
    "i = 0\n",
    "while i < 6:\n",
    "  i += 1\n",
    "  if i == 3:\n",
    "    continue\n",
    "  print(i)"
   ]
  },
  {
   "cell_type": "markdown",
   "id": "78dda34a-083e-4a05-a4bd-1155fb553c60",
   "metadata": {},
   "source": [
    "# Lambda\n",
    "* A lambda function can take any number of arguments, but can only have one expression.\r\n",
    "\r\n"
   ]
  },
  {
   "cell_type": "code",
   "execution_count": 32,
   "id": "ce22de53-d6c5-4ed1-824d-629332196c5b",
   "metadata": {},
   "outputs": [
    {
     "name": "stdout",
     "output_type": "stream",
     "text": [
      "l1 = [1, 3, 5]\n"
     ]
    }
   ],
   "source": [
    "l1 = list(range(1,6,2))\n",
    "print(f'l1 = {l1}')"
   ]
  },
  {
   "cell_type": "markdown",
   "id": "653f1d70-7262-4664-9000-208bbcdb10a8",
   "metadata": {},
   "source": [
    "# Create an example of while, for, map, filter of list"
   ]
  },
  {
   "cell_type": "code",
   "execution_count": 2,
   "id": "85f9aea9-fdb7-4698-8624-54f17b077f7d",
   "metadata": {},
   "outputs": [
    {
     "name": "stdout",
     "output_type": "stream",
     "text": [
      "[{'name': 'Alice', 'age': 30, 'city': 'New York'}, {'name': 'Bob', 'age': 25, 'city': 'Los Angeles'}, {'name': 'Charlie', 'age': 35, 'city': 'Chicago'}, {'name': 'David', 'age': 28, 'city': 'New York'}, {'name': 'Eve', 'age': 22, 'city': 'Los Angeles'}]\n"
     ]
    }
   ],
   "source": [
    "student = [\n",
    "    {\"name\": \"Alice\", \"age\": 30, \"city\": \"New York\"},\n",
    "    {\"name\": \"Bob\", \"age\": 25, \"city\": \"Los Angeles\"},\n",
    "    {\"name\": \"Charlie\", \"age\": 35, \"city\": \"Chicago\"},\n",
    "    {\"name\": \"David\", \"age\": 28, \"city\": \"New York\"},\n",
    "    {\"name\": \"Eve\", \"age\": 22, \"city\": \"Los Angeles\"}\n",
    "]\n",
    "print(student)"
   ]
  },
  {
   "cell_type": "markdown",
   "id": "7986e61a-7f97-446b-836b-2db1224798c3",
   "metadata": {},
   "source": [
    "# While loop"
   ]
  },
  {
   "cell_type": "code",
   "execution_count": 5,
   "id": "d56689f6-3c8a-44da-a5ec-83c577c6568c",
   "metadata": {},
   "outputs": [
    {
     "name": "stdout",
     "output_type": "stream",
     "text": [
      "Alice\n",
      "Bob\n",
      "Charlie\n",
      "David\n",
      "Eve\n"
     ]
    }
   ],
   "source": [
    "index = 0\n",
    "while index < len(student):\n",
    "    print(student[index]['name'])\n",
    "    index += 1"
   ]
  },
  {
   "cell_type": "code",
   "execution_count": 8,
   "id": "01fa9e4b-8092-4e06-b8cd-c26e165dd85f",
   "metadata": {},
   "outputs": [
    {
     "name": "stdout",
     "output_type": "stream",
     "text": [
      "30\n",
      "25\n",
      "35\n",
      "28\n",
      "22\n"
     ]
    }
   ],
   "source": [
    "index = 0\n",
    "while index <len(student):\n",
    "    print(student[index]['age'])\n",
    "    index += 1"
   ]
  },
  {
   "cell_type": "markdown",
   "id": "570e53e4-5f2e-414b-ada5-562861adc9a7",
   "metadata": {},
   "source": [
    "# For loop"
   ]
  },
  {
   "cell_type": "code",
   "execution_count": 16,
   "id": "63964730-8714-435e-be10-87d72d89beeb",
   "metadata": {},
   "outputs": [
    {
     "name": "stdout",
     "output_type": "stream",
     "text": [
      "[{'week': 'monday', 'activity': 'gym'}, {'week': 'tuesday', 'activity': 'swimming'}, {'week': 'wednesday', 'activity': 'yoga'}, {'week': 'thursday', 'activity': 'running'}, {'week': 'friday', 'activity': 'cycling'}, {'week': 'saturday', 'activity': 'hiking'}, {'week': 'sunday', 'activity': 'rest'}]\n"
     ]
    }
   ],
   "source": [
    "week = [\n",
    "    {\"week\": \"monday\", \"activity\": \"gym\"},\n",
    "    {\"week\": \"tuesday\", \"activity\": \"swimming\"},\n",
    "    {\"week\": \"wednesday\", \"activity\": \"yoga\"},\n",
    "    {\"week\": \"thursday\", \"activity\": \"running\"},\n",
    "    {\"week\": \"friday\", \"activity\": \"cycling\"},\n",
    "    {\"week\": \"saturday\", \"activity\": \"hiking\"},\n",
    "    {\"week\": \"sunday\", \"activity\": \"rest\"}\n",
    "]\n",
    "print(week)"
   ]
  },
  {
   "cell_type": "code",
   "execution_count": 26,
   "id": "85ef0ca2-e5a4-4335-9e30-75a66f0e6331",
   "metadata": {},
   "outputs": [
    {
     "name": "stdout",
     "output_type": "stream",
     "text": [
      "It is gym\n",
      "Holidays\n",
      "Holidays\n",
      "It is act\n",
      "Holidays\n",
      "Holidays\n",
      "Holidays\n"
     ]
    }
   ],
   "source": [
    "for val in week:\n",
    "    if val['week'] == 'sun':\n",
    "        print(val)\n",
    "    elif val['week'] == 'monday':\n",
    "        print('It is gym')\n",
    "    elif val['week'] == 'mon':\n",
    "        print('It is swimming')\n",
    "    elif val['week'] == 'tue':\n",
    "        print('It is yoga')\n",
    "    elif val['week'] == 'thursday':\n",
    "        print('It is act')\n",
    "    else:\n",
    "        print('Holidays')\n"
   ]
  },
  {
   "cell_type": "code",
   "execution_count": 29,
   "id": "4daf5801-64ef-48d6-a170-1920edd3df5f",
   "metadata": {},
   "outputs": [
    {
     "name": "stdout",
     "output_type": "stream",
     "text": [
      "{'week': 'monday', 'activity': 'gym'}\n"
     ]
    }
   ],
   "source": [
    "for val in week:\n",
    "    if val['week'] == 'monday':\n",
    "        print(val)"
   ]
  },
  {
   "cell_type": "markdown",
   "id": "66911298-9b2a-4542-aae8-1a2dea98edea",
   "metadata": {},
   "source": [
    "# map"
   ]
  },
  {
   "cell_type": "code",
   "execution_count": 40,
   "id": "ced22bfb-97a5-4559-8287-5ea8465b6755",
   "metadata": {},
   "outputs": [
    {
     "name": "stdout",
     "output_type": "stream",
     "text": [
      "['ALICE', 'BOB', 'CHARLIE', 'DAVID', 'EVE']\n",
      "['new york', 'los angeles', 'chicago', 'new york', 'los angeles']\n"
     ]
    }
   ],
   "source": [
    "up = list(map(lambda person: person['name'].upper(), student))\n",
    "print(up)\n",
    "lp = list(map(lambda person: person['city'].lower(), student))\n",
    "print(lp)"
   ]
  },
  {
   "cell_type": "markdown",
   "id": "8b970c38-6810-429e-99bb-4faacfe4b575",
   "metadata": {},
   "source": [
    "# Filter"
   ]
  },
  {
   "cell_type": "code",
   "execution_count": 44,
   "id": "b6f182d7-464d-4c87-9876-75a5eac71708",
   "metadata": {},
   "outputs": [
    {
     "name": "stdout",
     "output_type": "stream",
     "text": [
      "[{'name': 'Alice', 'age': 30, 'city': 'New York'}, {'name': 'Charlie', 'age': 35, 'city': 'Chicago'}]\n"
     ]
    }
   ],
   "source": [
    "op = list(filter(lambda person: person['age'] >= 30, student))\n",
    "print(op)"
   ]
  },
  {
   "cell_type": "code",
   "execution_count": 55,
   "id": "c6201b89-d5d1-4075-9ffa-347fb4b7e0ff",
   "metadata": {},
   "outputs": [
    {
     "name": "stdout",
     "output_type": "stream",
     "text": [
      "[{'name': 'Alice', 'age': 30, 'city': 'New York'}, {'name': 'David', 'age': 28, 'city': 'New York'}]\n"
     ]
    }
   ],
   "source": [
    "c1 = list(filter(lambda person: person['city'] == 'New York', student))\n",
    "print(c1)"
   ]
  },
  {
   "cell_type": "code",
   "execution_count": null,
   "id": "29c75314-e3b2-4236-884e-61db43def8c0",
   "metadata": {},
   "outputs": [],
   "source": []
  },
  {
   "cell_type": "code",
   "execution_count": null,
   "id": "26ecc22f-26fc-4911-9200-fac24763e557",
   "metadata": {},
   "outputs": [],
   "source": []
  }
 ],
 "metadata": {
  "kernelspec": {
   "display_name": "Python 3 (ipykernel)",
   "language": "python",
   "name": "python3"
  },
  "language_info": {
   "codemirror_mode": {
    "name": "ipython",
    "version": 3
   },
   "file_extension": ".py",
   "mimetype": "text/x-python",
   "name": "python",
   "nbconvert_exporter": "python",
   "pygments_lexer": "ipython3",
   "version": "3.11.7"
  }
 },
 "nbformat": 4,
 "nbformat_minor": 5
}
